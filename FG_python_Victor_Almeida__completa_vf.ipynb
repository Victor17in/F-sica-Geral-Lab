{
  "nbformat": 4,
  "nbformat_minor": 0,
  "metadata": {
    "colab": {
      "provenance": []
    },
    "kernelspec": {
      "name": "python3",
      "display_name": "Python 3"
    },
    "language_info": {
      "name": "python"
    }
  },
  "cells": [
    {
      "cell_type": "markdown",
      "source": [
        "#Bibliotecas"
      ],
      "metadata": {
        "id": "ZBDlHFy0yzMg"
      }
    },
    {
      "cell_type": "code",
      "execution_count": 12,
      "metadata": {
        "id": "xCleznciyniA"
      },
      "outputs": [],
      "source": [
        "import numpy as np\n",
        "import pandas as pd\n",
        "import matplotlib as mpl\n",
        "import matplotlib.pyplot as plt\n",
        "import statistics"
      ]
    },
    {
      "cell_type": "markdown",
      "source": [
        "#Dados em listas"
      ],
      "metadata": {
        "id": "3RNYLJjOy5XQ"
      }
    },
    {
      "cell_type": "code",
      "source": [
        "x = [27,25,23,46,19,18,18,39,20,20,18,19,22,18,59] # idade\n",
        "y = [70,54,80,105,63,75,75,93,81,59,56,55,64,58,99] # massa\n",
        "z = [179,165,175,179,170,178,184,177,174,179,165,172,175,160,170] # altura"
      ],
      "metadata": {
        "id": "iCEsTUkny34S"
      },
      "execution_count": 13,
      "outputs": []
    },
    {
      "cell_type": "code",
      "source": [
        "len(x)"
      ],
      "metadata": {
        "colab": {
          "base_uri": "https://localhost:8080/"
        },
        "id": "e78cUfAD1MPN",
        "outputId": "7f859226-6af9-4c91-fdf6-c78d1b9297f8"
      },
      "execution_count": 14,
      "outputs": [
        {
          "output_type": "execute_result",
          "data": {
            "text/plain": [
              "15"
            ]
          },
          "metadata": {},
          "execution_count": 14
        }
      ]
    },
    {
      "cell_type": "code",
      "source": [
        "print(len(x))\n",
        "print(len(y))\n",
        "print(len(z))"
      ],
      "metadata": {
        "colab": {
          "base_uri": "https://localhost:8080/"
        },
        "id": "2Ypk8wOa0_pE",
        "outputId": "c70a1c3e-1b6b-4b5f-956e-ee69d8a97087"
      },
      "execution_count": 15,
      "outputs": [
        {
          "output_type": "stream",
          "name": "stdout",
          "text": [
            "15\n",
            "15\n",
            "15\n"
          ]
        }
      ]
    },
    {
      "cell_type": "markdown",
      "source": [
        "##2.1Tabelas e histogramas"
      ],
      "metadata": {
        "id": "57uuJzKVwC9K"
      }
    },
    {
      "cell_type": "code",
      "source": [
        "pd.DataFrame({'Idade':x,'Massa':y,'Altura':z, }) #dicionário em um DataFrame"
      ],
      "metadata": {
        "colab": {
          "base_uri": "https://localhost:8080/",
          "height": 519
        },
        "id": "CfeldQy03t4a",
        "outputId": "8396fc07-1421-4e19-eb71-8b9184cb6232"
      },
      "execution_count": 16,
      "outputs": [
        {
          "output_type": "execute_result",
          "data": {
            "text/plain": [
              "    Idade  Massa  Altura\n",
              "0      27     70     179\n",
              "1      25     54     165\n",
              "2      23     80     175\n",
              "3      46    105     179\n",
              "4      19     63     170\n",
              "5      18     75     178\n",
              "6      18     75     184\n",
              "7      39     93     177\n",
              "8      20     81     174\n",
              "9      20     59     179\n",
              "10     18     56     165\n",
              "11     19     55     172\n",
              "12     22     64     175\n",
              "13     18     58     160\n",
              "14     59     99     170"
            ],
            "text/html": [
              "\n",
              "  <div id=\"df-75991e2d-b1b9-4397-af3e-f7cffa630a31\">\n",
              "    <div class=\"colab-df-container\">\n",
              "      <div>\n",
              "<style scoped>\n",
              "    .dataframe tbody tr th:only-of-type {\n",
              "        vertical-align: middle;\n",
              "    }\n",
              "\n",
              "    .dataframe tbody tr th {\n",
              "        vertical-align: top;\n",
              "    }\n",
              "\n",
              "    .dataframe thead th {\n",
              "        text-align: right;\n",
              "    }\n",
              "</style>\n",
              "<table border=\"1\" class=\"dataframe\">\n",
              "  <thead>\n",
              "    <tr style=\"text-align: right;\">\n",
              "      <th></th>\n",
              "      <th>Idade</th>\n",
              "      <th>Massa</th>\n",
              "      <th>Altura</th>\n",
              "    </tr>\n",
              "  </thead>\n",
              "  <tbody>\n",
              "    <tr>\n",
              "      <th>0</th>\n",
              "      <td>27</td>\n",
              "      <td>70</td>\n",
              "      <td>179</td>\n",
              "    </tr>\n",
              "    <tr>\n",
              "      <th>1</th>\n",
              "      <td>25</td>\n",
              "      <td>54</td>\n",
              "      <td>165</td>\n",
              "    </tr>\n",
              "    <tr>\n",
              "      <th>2</th>\n",
              "      <td>23</td>\n",
              "      <td>80</td>\n",
              "      <td>175</td>\n",
              "    </tr>\n",
              "    <tr>\n",
              "      <th>3</th>\n",
              "      <td>46</td>\n",
              "      <td>105</td>\n",
              "      <td>179</td>\n",
              "    </tr>\n",
              "    <tr>\n",
              "      <th>4</th>\n",
              "      <td>19</td>\n",
              "      <td>63</td>\n",
              "      <td>170</td>\n",
              "    </tr>\n",
              "    <tr>\n",
              "      <th>5</th>\n",
              "      <td>18</td>\n",
              "      <td>75</td>\n",
              "      <td>178</td>\n",
              "    </tr>\n",
              "    <tr>\n",
              "      <th>6</th>\n",
              "      <td>18</td>\n",
              "      <td>75</td>\n",
              "      <td>184</td>\n",
              "    </tr>\n",
              "    <tr>\n",
              "      <th>7</th>\n",
              "      <td>39</td>\n",
              "      <td>93</td>\n",
              "      <td>177</td>\n",
              "    </tr>\n",
              "    <tr>\n",
              "      <th>8</th>\n",
              "      <td>20</td>\n",
              "      <td>81</td>\n",
              "      <td>174</td>\n",
              "    </tr>\n",
              "    <tr>\n",
              "      <th>9</th>\n",
              "      <td>20</td>\n",
              "      <td>59</td>\n",
              "      <td>179</td>\n",
              "    </tr>\n",
              "    <tr>\n",
              "      <th>10</th>\n",
              "      <td>18</td>\n",
              "      <td>56</td>\n",
              "      <td>165</td>\n",
              "    </tr>\n",
              "    <tr>\n",
              "      <th>11</th>\n",
              "      <td>19</td>\n",
              "      <td>55</td>\n",
              "      <td>172</td>\n",
              "    </tr>\n",
              "    <tr>\n",
              "      <th>12</th>\n",
              "      <td>22</td>\n",
              "      <td>64</td>\n",
              "      <td>175</td>\n",
              "    </tr>\n",
              "    <tr>\n",
              "      <th>13</th>\n",
              "      <td>18</td>\n",
              "      <td>58</td>\n",
              "      <td>160</td>\n",
              "    </tr>\n",
              "    <tr>\n",
              "      <th>14</th>\n",
              "      <td>59</td>\n",
              "      <td>99</td>\n",
              "      <td>170</td>\n",
              "    </tr>\n",
              "  </tbody>\n",
              "</table>\n",
              "</div>\n",
              "      <button class=\"colab-df-convert\" onclick=\"convertToInteractive('df-75991e2d-b1b9-4397-af3e-f7cffa630a31')\"\n",
              "              title=\"Convert this dataframe to an interactive table.\"\n",
              "              style=\"display:none;\">\n",
              "        \n",
              "  <svg xmlns=\"http://www.w3.org/2000/svg\" height=\"24px\"viewBox=\"0 0 24 24\"\n",
              "       width=\"24px\">\n",
              "    <path d=\"M0 0h24v24H0V0z\" fill=\"none\"/>\n",
              "    <path d=\"M18.56 5.44l.94 2.06.94-2.06 2.06-.94-2.06-.94-.94-2.06-.94 2.06-2.06.94zm-11 1L8.5 8.5l.94-2.06 2.06-.94-2.06-.94L8.5 2.5l-.94 2.06-2.06.94zm10 10l.94 2.06.94-2.06 2.06-.94-2.06-.94-.94-2.06-.94 2.06-2.06.94z\"/><path d=\"M17.41 7.96l-1.37-1.37c-.4-.4-.92-.59-1.43-.59-.52 0-1.04.2-1.43.59L10.3 9.45l-7.72 7.72c-.78.78-.78 2.05 0 2.83L4 21.41c.39.39.9.59 1.41.59.51 0 1.02-.2 1.41-.59l7.78-7.78 2.81-2.81c.8-.78.8-2.07 0-2.86zM5.41 20L4 18.59l7.72-7.72 1.47 1.35L5.41 20z\"/>\n",
              "  </svg>\n",
              "      </button>\n",
              "      \n",
              "  <style>\n",
              "    .colab-df-container {\n",
              "      display:flex;\n",
              "      flex-wrap:wrap;\n",
              "      gap: 12px;\n",
              "    }\n",
              "\n",
              "    .colab-df-convert {\n",
              "      background-color: #E8F0FE;\n",
              "      border: none;\n",
              "      border-radius: 50%;\n",
              "      cursor: pointer;\n",
              "      display: none;\n",
              "      fill: #1967D2;\n",
              "      height: 32px;\n",
              "      padding: 0 0 0 0;\n",
              "      width: 32px;\n",
              "    }\n",
              "\n",
              "    .colab-df-convert:hover {\n",
              "      background-color: #E2EBFA;\n",
              "      box-shadow: 0px 1px 2px rgba(60, 64, 67, 0.3), 0px 1px 3px 1px rgba(60, 64, 67, 0.15);\n",
              "      fill: #174EA6;\n",
              "    }\n",
              "\n",
              "    [theme=dark] .colab-df-convert {\n",
              "      background-color: #3B4455;\n",
              "      fill: #D2E3FC;\n",
              "    }\n",
              "\n",
              "    [theme=dark] .colab-df-convert:hover {\n",
              "      background-color: #434B5C;\n",
              "      box-shadow: 0px 1px 3px 1px rgba(0, 0, 0, 0.15);\n",
              "      filter: drop-shadow(0px 1px 2px rgba(0, 0, 0, 0.3));\n",
              "      fill: #FFFFFF;\n",
              "    }\n",
              "  </style>\n",
              "\n",
              "      <script>\n",
              "        const buttonEl =\n",
              "          document.querySelector('#df-75991e2d-b1b9-4397-af3e-f7cffa630a31 button.colab-df-convert');\n",
              "        buttonEl.style.display =\n",
              "          google.colab.kernel.accessAllowed ? 'block' : 'none';\n",
              "\n",
              "        async function convertToInteractive(key) {\n",
              "          const element = document.querySelector('#df-75991e2d-b1b9-4397-af3e-f7cffa630a31');\n",
              "          const dataTable =\n",
              "            await google.colab.kernel.invokeFunction('convertToInteractive',\n",
              "                                                     [key], {});\n",
              "          if (!dataTable) return;\n",
              "\n",
              "          const docLinkHtml = 'Like what you see? Visit the ' +\n",
              "            '<a target=\"_blank\" href=https://colab.research.google.com/notebooks/data_table.ipynb>data table notebook</a>'\n",
              "            + ' to learn more about interactive tables.';\n",
              "          element.innerHTML = '';\n",
              "          dataTable['output_type'] = 'display_data';\n",
              "          await google.colab.output.renderOutput(dataTable, element);\n",
              "          const docLink = document.createElement('div');\n",
              "          docLink.innerHTML = docLinkHtml;\n",
              "          element.appendChild(docLink);\n",
              "        }\n",
              "      </script>\n",
              "    </div>\n",
              "  </div>\n",
              "  "
            ]
          },
          "metadata": {},
          "execution_count": 16
        }
      ]
    },
    {
      "cell_type": "code",
      "source": [
        "plt.hist( x )\n",
        "plt.xlabel( \"Idade (anos)\")\n",
        "plt.ylabel( \"Frequência\" )"
      ],
      "metadata": {
        "colab": {
          "base_uri": "https://localhost:8080/",
          "height": 466
        },
        "id": "DweRFDWuxZbN",
        "outputId": "50c1dfd4-c685-4981-dae4-5cf981a112c1"
      },
      "execution_count": 17,
      "outputs": [
        {
          "output_type": "execute_result",
          "data": {
            "text/plain": [
              "Text(0, 0.5, 'Frequência')"
            ]
          },
          "metadata": {},
          "execution_count": 17
        },
        {
          "output_type": "display_data",
          "data": {
            "text/plain": [
              "<Figure size 640x480 with 1 Axes>"
            ],
            "image/png": "[encoded data removed]"
          },
          "metadata": {}
        }
      ]
    },
    {
      "cell_type": "code",
      "source": [
        "plt.hist( x, bins = 45 )\n",
        "plt.xlabel( \"Idade (anos)\")\n",
        "plt.ylabel( \"Frequência\" )"
      ],
      "metadata": {
        "colab": {
          "base_uri": "https://localhost:8080/",
          "height": 466
        },
        "id": "g4R15isMx_t1",
        "outputId": "c83e60bc-5ef6-4faf-8099-17ccd9a46f5c"
      },
      "execution_count": 18,
      "outputs": [
        {
          "output_type": "execute_result",
          "data": {
            "text/plain": [
              "Text(0, 0.5, 'Frequência')"
            ]
          },
          "metadata": {},
          "execution_count": 18
        },
        {
          "output_type": "display_data",
          "data": {
            "text/plain": [
              "<Figure size 640x480 with 1 Axes>"
            ],
            "image/png": "[encoded data removed]"
          },
          "metadata": {}
        }
      ]
    },
    {
      "cell_type": "code",
      "source": [
        "plt.hist( x, bins = 48 )\n",
        "plt.xlim( 16, 64 )\n",
        "plt.xlabel( \"Idade (anos)\")\n",
        "plt.ylabel( \"Frequência\" )"
      ],
      "metadata": {
        "colab": {
          "base_uri": "https://localhost:8080/",
          "height": 466
        },
        "id": "VHXpGr4oyZF7",
        "outputId": "2df94c25-94a0-4a77-8e6b-ed1159903110"
      },
      "execution_count": 19,
      "outputs": [
        {
          "output_type": "execute_result",
          "data": {
            "text/plain": [
              "Text(0, 0.5, 'Frequência')"
            ]
          },
          "metadata": {},
          "execution_count": 19
        },
        {
          "output_type": "display_data",
          "data": {
            "text/plain": [
              "<Figure size 640x480 with 1 Axes>"
            ],
            "image/png": "[encoded data removed]"
          },
          "metadata": {}
        }
      ]
    },
    {
      "cell_type": "code",
      "source": [
        "plt.hist( x, bins = 48, color='green' )\n",
        "plt.xlim( 16, 64 )\n",
        "plt.xlabel( \"Idade (anos)\")\n",
        "plt.ylabel( \"Frequência\" )"
      ],
      "metadata": {
        "colab": {
          "base_uri": "https://localhost:8080/",
          "height": 466
        },
        "id": "LsZzOTlmx436",
        "outputId": "15e66a0c-6628-4e35-f869-ed27f6cda550"
      },
      "execution_count": 20,
      "outputs": [
        {
          "output_type": "execute_result",
          "data": {
            "text/plain": [
              "Text(0, 0.5, 'Frequência')"
            ]
          },
          "metadata": {},
          "execution_count": 20
        },
        {
          "output_type": "display_data",
          "data": {
            "text/plain": [
              "<Figure size 640x480 with 1 Axes>"
            ],
            "image/png": "[encoded data removed]"
          },
          "metadata": {}
        }
      ]
    },
    {
      "cell_type": "code",
      "source": [
        "fig = plt.figure( figsize=(8,6) )\n",
        "plt.hist( x, bins = 48, color='green' )\n",
        "plt.xlim( 16, 64 )\n",
        "plt.xlabel( \"Idade (anos)\")\n",
        "plt.ylabel( \"Frequência\" )\n",
        "plt.title(\"Histograma das idades\")"
      ],
      "metadata": {
        "colab": {
          "base_uri": "https://localhost:8080/",
          "height": 581
        },
        "id": "Zx1qqf2JwUhk",
        "outputId": "abd9d871-36c7-4fba-da8a-57b7cf481e49"
      },
      "execution_count": 21,
      "outputs": [
        {
          "output_type": "execute_result",
          "data": {
            "text/plain": [
              "Text(0.5, 1.0, 'Histograma das idades')"
            ]
          },
          "metadata": {},
          "execution_count": 21
        },
        {
          "output_type": "display_data",
          "data": {
            "text/plain": [
              "<Figure size 800x600 with 1 Axes>"
            ],
            "image/png": "[encoded data removed]"
          },
          "metadata": {}
        }
      ]
    },
    {
      "cell_type": "code",
      "source": [
        "fig = plt.figure( figsize=(8,6) )\n",
        "plt.hist( y, bins = 100, color='orange' )\n",
        "# plt.xlim( 16, 64 )\n",
        "plt.xlabel( \"Massa(kg)\")\n",
        "plt.ylabel( \"Frequência\" )\n",
        "plt.title(\"Histograma das massas\")"
      ],
      "metadata": {
        "colab": {
          "base_uri": "https://localhost:8080/",
          "height": 581
        },
        "id": "a7zw7hqwzqlV",
        "outputId": "dd516396-7d59-49b6-b2c8-31c96c38b6b9"
      },
      "execution_count": 22,
      "outputs": [
        {
          "output_type": "execute_result",
          "data": {
            "text/plain": [
              "Text(0.5, 1.0, 'Histograma das massas')"
            ]
          },
          "metadata": {},
          "execution_count": 22
        },
        {
          "output_type": "display_data",
          "data": {
            "text/plain": [
              "<Figure size 800x600 with 1 Axes>"
            ],
            "image/png": "[encoded data removed]"
          },
          "metadata": {}
        }
      ]
    },
    {
      "cell_type": "code",
      "source": [
        "fig = plt.figure( figsize=(8,6) )\n",
        "plt.hist( z, bins = 60, color='red' )\n",
        "# plt.xlim( 16, 64 )\n",
        "plt.xlabel( \"Altura(cm)\")\n",
        "plt.ylabel( \"Frequência\" )\n",
        "plt.title(\"Histograma das massas\")"
      ],
      "metadata": {
        "colab": {
          "base_uri": "https://localhost:8080/",
          "height": 581
        },
        "id": "U0QtGFSw0RQz",
        "outputId": "aa8c8cdb-b5e3-4dad-9751-6ff0ceb55697"
      },
      "execution_count": 23,
      "outputs": [
        {
          "output_type": "execute_result",
          "data": {
            "text/plain": [
              "Text(0.5, 1.0, 'Histograma das massas')"
            ]
          },
          "metadata": {},
          "execution_count": 23
        },
        {
          "output_type": "display_data",
          "data": {
            "text/plain": [
              "<Figure size 800x600 with 1 Axes>"
            ],
            "image/png": "[encoded data removed]"
          },
          "metadata": {}
        }
      ]
    },
    {
      "cell_type": "markdown",
      "source": [
        "## 2.2 Parâmetros de posição"
      ],
      "metadata": {
        "id": "px92Smff3Rky"
      }
    },
    {
      "cell_type": "markdown",
      "source": [
        "#Média"
      ],
      "metadata": {
        "id": "9v-tg98310mW"
      }
    },
    {
      "cell_type": "code",
      "source": [
        "np.sum(x)"
      ],
      "metadata": {
        "colab": {
          "base_uri": "https://localhost:8080/"
        },
        "id": "9vJB22K02A_P",
        "outputId": "eae44a9f-6e51-45b0-9e9f-64e3f1732980"
      },
      "execution_count": 24,
      "outputs": [
        {
          "output_type": "execute_result",
          "data": {
            "text/plain": [
              "391"
            ]
          },
          "metadata": {},
          "execution_count": 24
        }
      ]
    },
    {
      "cell_type": "code",
      "source": [
        "media_x = np.sum(x)/len(x)\n",
        "print(media_x)"
      ],
      "metadata": {
        "colab": {
          "base_uri": "https://localhost:8080/"
        },
        "id": "eVBMJVF02J9J",
        "outputId": "d0fc13fa-29c5-4dcd-8480-677f1712303f"
      },
      "execution_count": 25,
      "outputs": [
        {
          "output_type": "stream",
          "name": "stdout",
          "text": [
            "26.066666666666666\n"
          ]
        }
      ]
    },
    {
      "cell_type": "code",
      "source": [
        "np.mean(x)"
      ],
      "metadata": {
        "colab": {
          "base_uri": "https://localhost:8080/"
        },
        "id": "FJkGKPiH1C3V",
        "outputId": "fd0c53e7-4cfb-4079-92ee-eab07a42dda5"
      },
      "execution_count": 26,
      "outputs": [
        {
          "output_type": "execute_result",
          "data": {
            "text/plain": [
              "26.066666666666666"
            ]
          },
          "metadata": {},
          "execution_count": 26
        }
      ]
    },
    {
      "cell_type": "code",
      "source": [
        "round(np.mean(x),2)"
      ],
      "metadata": {
        "colab": {
          "base_uri": "https://localhost:8080/"
        },
        "id": "bxuJgOmN3ELJ",
        "outputId": "9b60254a-3ae7-45de-b48e-a693055716c6"
      },
      "execution_count": 27,
      "outputs": [
        {
          "output_type": "execute_result",
          "data": {
            "text/plain": [
              "26.07"
            ]
          },
          "metadata": {},
          "execution_count": 27
        }
      ]
    },
    {
      "cell_type": "code",
      "source": [
        "media_y = np.mean(y)\n",
        "media_z = np.mean(z)\n",
        "print(media_y)\n",
        "print(media_z)"
      ],
      "metadata": {
        "colab": {
          "base_uri": "https://localhost:8080/"
        },
        "id": "ciCE2CnE1xzV",
        "outputId": "c58b50c6-96a4-4838-e54d-59cd2cbe7c7a"
      },
      "execution_count": 28,
      "outputs": [
        {
          "output_type": "stream",
          "name": "stdout",
          "text": [
            "72.46666666666667\n",
            "173.46666666666667\n"
          ]
        }
      ]
    },
    {
      "cell_type": "code",
      "source": [
        "print(\"A média das idades é \",round(media_x,2), \"anos.\")\n",
        "print(\"A média das massas é \",round(media_y,2), \"kg.\")\n",
        "print(\"A média das alturas é \",round(media_z,2), \"cm.\")"
      ],
      "metadata": {
        "colab": {
          "base_uri": "https://localhost:8080/"
        },
        "id": "D4A-ajcd6OEm",
        "outputId": "5ed1f917-0d2d-418f-9b86-1927289aa307"
      },
      "execution_count": 29,
      "outputs": [
        {
          "output_type": "stream",
          "name": "stdout",
          "text": [
            "A média das idades é  26.07 anos.\n",
            "A média das massas é  72.47 kg.\n",
            "A média das alturas é  173.47 cm.\n"
          ]
        }
      ]
    },
    {
      "cell_type": "markdown",
      "source": [
        "#Moda"
      ],
      "metadata": {
        "id": "HCTe5mY14aAl"
      }
    },
    {
      "cell_type": "code",
      "source": [
        "statistics.mode(x)"
      ],
      "metadata": {
        "colab": {
          "base_uri": "https://localhost:8080/"
        },
        "id": "zo_Y0Z-b2249",
        "outputId": "b24fa140-4ea2-449b-95b0-5ebc30d51d89"
      },
      "execution_count": 30,
      "outputs": [
        {
          "output_type": "execute_result",
          "data": {
            "text/plain": [
              "18"
            ]
          },
          "metadata": {},
          "execution_count": 30
        }
      ]
    },
    {
      "cell_type": "code",
      "source": [
        "moda_x = statistics.mode(x)\n",
        "moda_y = statistics.mode(y)\n",
        "moda_z = statistics.mode(z)\n",
        "print(\"Moda das idades:\", moda_x, \"anos.\")\n",
        "print(\"Moda das massas:\",moda_y, \"kg.\")\n",
        "print(\"Moda das alturas:\",moda_z, \"cm.\")"
      ],
      "metadata": {
        "colab": {
          "base_uri": "https://localhost:8080/"
        },
        "id": "CFaROD1b48YK",
        "outputId": "d1290143-f809-45be-9a04-6f1fe113f7cc"
      },
      "execution_count": 31,
      "outputs": [
        {
          "output_type": "stream",
          "name": "stdout",
          "text": [
            "Moda das idades: 18 anos.\n",
            "Moda das massas: 75 kg.\n",
            "Moda das alturas: 179 cm.\n"
          ]
        }
      ]
    },
    {
      "cell_type": "markdown",
      "source": [
        "#Média quadrática"
      ],
      "metadata": {
        "id": "uhgcvuzM8u0-"
      }
    },
    {
      "cell_type": "markdown",
      "source": [
        "Força bruta"
      ],
      "metadata": {
        "id": "oWCMKhjhXfcs"
      }
    },
    {
      "cell_type": "code",
      "source": [
        "m = 27**2+25**2+23**2+46**2+2*19**2+4*18**2+39**2+20**2+20**2+22**2+59**2\n",
        "np.sqrt(m/15)"
      ],
      "metadata": {
        "colab": {
          "base_uri": "https://localhost:8080/"
        },
        "id": "gzLvbJ8QXYib",
        "outputId": "91160879-1528-4c11-eb1e-aa60b88cd753"
      },
      "execution_count": 32,
      "outputs": [
        {
          "output_type": "execute_result",
          "data": {
            "text/plain": [
              "28.639134065121453"
            ]
          },
          "metadata": {},
          "execution_count": 32
        }
      ]
    },
    {
      "cell_type": "markdown",
      "source": [
        "Loop - for (para) in (em)"
      ],
      "metadata": {
        "id": "apjZ4bnDQzkp"
      }
    },
    {
      "cell_type": "code",
      "source": [
        "list_quadx = []\n",
        "for i in x:\n",
        "  x2 = i*i\n",
        "  list_quadx.append(x2)\n",
        "media_quadratica = np.sqrt(np.sum(list_quadx)/len(list_quadx))\n",
        "print(media_quadratica)"
      ],
      "metadata": {
        "colab": {
          "base_uri": "https://localhost:8080/"
        },
        "id": "o7eAb50R43pv",
        "outputId": "0e60a72c-51d3-4079-fd89-72a318f16742"
      },
      "execution_count": 33,
      "outputs": [
        {
          "output_type": "stream",
          "name": "stdout",
          "text": [
            "28.639134065121453\n"
          ]
        }
      ]
    },
    {
      "cell_type": "markdown",
      "source": [
        "Função"
      ],
      "metadata": {
        "id": "FK0tJNscRKd-"
      }
    },
    {
      "cell_type": "code",
      "source": [
        "def media_quadratica_fun(x):\n",
        "    list_quadx = []\n",
        "    for i in x:\n",
        "      x2 = i*i\n",
        "      list_quadx.append(x2)\n",
        "    media_quadratica = np.sqrt(np.sum(list_quadx)/len(list_quadx))\n",
        "    return media_quadratica"
      ],
      "metadata": {
        "id": "98BkzWvuPWxa"
      },
      "execution_count": 34,
      "outputs": []
    },
    {
      "cell_type": "code",
      "source": [
        "media_quadratica_fun(x)"
      ],
      "metadata": {
        "colab": {
          "base_uri": "https://localhost:8080/"
        },
        "id": "9jDpEErGP6ce",
        "outputId": "9a419a0b-0c20-4c1d-e70a-83a3c6397572"
      },
      "execution_count": 35,
      "outputs": [
        {
          "output_type": "execute_result",
          "data": {
            "text/plain": [
              "28.639134065121453"
            ]
          },
          "metadata": {},
          "execution_count": 35
        }
      ]
    },
    {
      "cell_type": "code",
      "source": [
        "media_quadratica_x = media_quadratica_fun(x)\n",
        "media_quadratica_y = media_quadratica_fun(y)\n",
        "media_quadratica_z = media_quadratica_fun(z)\n",
        "print(\"A média quadrática da idade é \",round(media_quadratica_x,2), \"anos.\")\n",
        "print(\"A média quadrática da massa é \",round(media_quadratica_y,2), \"kg.\")\n",
        "print(\"A média quadrática da altura é \",round(media_quadratica_z,2), \"cm.\")"
      ],
      "metadata": {
        "colab": {
          "base_uri": "https://localhost:8080/"
        },
        "id": "gIwiOKxbRcy-",
        "outputId": "b45a318c-3be0-49a7-ad78-55c20f6d0783"
      },
      "execution_count": 36,
      "outputs": [
        {
          "output_type": "stream",
          "name": "stdout",
          "text": [
            "A média quadrática da idade é  28.64 anos.\n",
            "A média quadrática da massa é  74.19 kg.\n",
            "A média quadrática da altura é  173.58 cm.\n"
          ]
        }
      ]
    },
    {
      "cell_type": "markdown",
      "source": [
        "Média dos quadrados"
      ],
      "metadata": {
        "id": "IYkw_QJ0Foy_"
      }
    },
    {
      "cell_type": "code",
      "source": [
        "def media_dos_quadrados_fun(x):\n",
        "    list_quadx = []\n",
        "    for i in x:\n",
        "      x2 = i*i\n",
        "      list_quadx.append(x2)\n",
        "    r_media_quadratica = np.sum(list_quadx)/len(list_quadx)\n",
        "    return r_media_quadratica"
      ],
      "metadata": {
        "id": "zhOYwjYSFju1"
      },
      "execution_count": 37,
      "outputs": []
    },
    {
      "cell_type": "code",
      "source": [
        "r_media_quadratica_x = media_dos_quadrados_fun(x)\n",
        "r_media_quadratica_y = media_dos_quadrados_fun(y)\n",
        "r_media_quadratica_z = media_dos_quadrados_fun(z)\n",
        "print(\"A média dos quadrados da idade é \",round(r_media_quadratica_x,2), \"anos.\")\n",
        "print(\"A média dos quadrado da massa é \",round(r_media_quadratica_y,2), \"kg.\")\n",
        "print(\"A média dos quadrado da altura é \",round(r_media_quadratica_z,2), \"cm.\")"
      ],
      "metadata": {
        "colab": {
          "base_uri": "https://localhost:8080/"
        },
        "id": "SDijeYjdF9wL",
        "outputId": "a284f41a-e9d8-485c-a648-c3c6f9611795"
      },
      "execution_count": 38,
      "outputs": [
        {
          "output_type": "stream",
          "name": "stdout",
          "text": [
            "A média dos quadrados da idade é  820.2 anos.\n",
            "A média dos quadrado da massa é  5504.87 kg.\n",
            "A média dos quadrado da altura é  30130.13 cm.\n"
          ]
        }
      ]
    },
    {
      "cell_type": "markdown",
      "source": [
        "##Mediana"
      ],
      "metadata": {
        "id": "ogR1XKxRE-H7"
      }
    },
    {
      "cell_type": "markdown",
      "source": [
        "![mediana.png](data:image/png;base64,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)"
      ],
      "metadata": {
        "id": "Ua5bs6sNLKAK"
      }
    },
    {
      "cell_type": "markdown",
      "source": [
        "Criar outra lista para não modificar a original"
      ],
      "metadata": {
        "id": "slzupTgjEJ61"
      }
    },
    {
      "cell_type": "code",
      "source": [
        "# Listas ímpares\n",
        "a = [27,25,23,46,19,18,18,39,20,20,18,19,22,18,59] # idade\n",
        "b = [70,54,80,105,63,75,75,93,81,59,56,55,64,58,99] # massa\n",
        "c = [179,165,175,179,170,178,184,177,174,179,165,172,175,160,170] # altura"
      ],
      "metadata": {
        "id": "Yk62BCHSEDJv"
      },
      "execution_count": 39,
      "outputs": []
    },
    {
      "cell_type": "code",
      "source": [
        "len(a)"
      ],
      "metadata": {
        "colab": {
          "base_uri": "https://localhost:8080/"
        },
        "id": "sw_-5gYrGpCB",
        "outputId": "8af9cf9c-1e0b-428e-b4a6-e0a0ec884998"
      },
      "execution_count": 40,
      "outputs": [
        {
          "output_type": "execute_result",
          "data": {
            "text/plain": [
              "15"
            ]
          },
          "metadata": {},
          "execution_count": 40
        }
      ]
    },
    {
      "cell_type": "code",
      "source": [
        "def mediana(lista):\n",
        "  lista.sort()\n",
        "  if len(lista)%2 == 0:\n",
        "    print(\"A lista é par\")\n",
        "    l = (len(lista))/2\n",
        "    l2 = ((len(lista))/2)+1\n",
        "    print(\"A ordem do elemento da metade é\", l, \"e o elemento é\", int(lista[int(l-1)]))\n",
        "    print(\"A ordem do elemento da metade +1 da lista é\", l2, \"e o elemento é\", int(lista[int(l2-1)]))\n",
        "    median = (int(lista[int(l-1)])+ int(lista[int(l2-1)]))/2\n",
        "    print(\"A mediana é em:\",median)\n",
        "  else:\n",
        "    print(\"A lista é ímpar\")\n",
        "    l =(len(lista)+1)/2\n",
        "    median = lista[int(l-1)]\n",
        "    print(\"A ordem do elemento é\",l, \"e o elemento é\", median)\n",
        "  return median"
      ],
      "metadata": {
        "id": "LbY-5Je1CwVM"
      },
      "execution_count": 41,
      "outputs": []
    },
    {
      "cell_type": "code",
      "source": [
        "mediana(a)"
      ],
      "metadata": {
        "colab": {
          "base_uri": "https://localhost:8080/"
        },
        "id": "YhEMkUJuEA0N",
        "outputId": "6a0a3219-195c-4905-a41a-3eb2e731b82d"
      },
      "execution_count": 42,
      "outputs": [
        {
          "output_type": "stream",
          "name": "stdout",
          "text": [
            "A lista é ímpar\n",
            "A ordem do elemento é 8.0 e o elemento é 20\n"
          ]
        },
        {
          "output_type": "execute_result",
          "data": {
            "text/plain": [
              "20"
            ]
          },
          "metadata": {},
          "execution_count": 42
        }
      ]
    },
    {
      "cell_type": "code",
      "source": [
        "a"
      ],
      "metadata": {
        "colab": {
          "base_uri": "https://localhost:8080/"
        },
        "id": "WZ8Qu9kxI4SO",
        "outputId": "035faa15-42ce-4ed3-b1fe-4a6066ce969f"
      },
      "execution_count": 43,
      "outputs": [
        {
          "output_type": "execute_result",
          "data": {
            "text/plain": [
              "[18, 18, 18, 18, 19, 19, 20, 20, 22, 23, 25, 27, 39, 46, 59]"
            ]
          },
          "metadata": {},
          "execution_count": 43
        }
      ]
    },
    {
      "cell_type": "markdown",
      "source": [
        "Teste para lista pares"
      ],
      "metadata": {
        "id": "PuADFJf_FR8J"
      }
    },
    {
      "cell_type": "code",
      "source": [
        "# Listas pares\n",
        "d = [27,25,23,46,19,18,18,39,20,20,18,19,22,18] # idade\n",
        "f = [70,54,80,105,63,75,75,93,81,59,56,55,64,58] # massa\n",
        "e = [179,165,175,179,170,178,184,177,174,179,165,172,175,160] # altura"
      ],
      "metadata": {
        "id": "A18V5czGEtC6"
      },
      "execution_count": 44,
      "outputs": []
    },
    {
      "cell_type": "code",
      "source": [
        "len(f)"
      ],
      "metadata": {
        "colab": {
          "base_uri": "https://localhost:8080/"
        },
        "id": "WMifq30SGJRU",
        "outputId": "f3e33976-067e-4b6f-a1ad-7c4f29a92d4b"
      },
      "execution_count": 45,
      "outputs": [
        {
          "output_type": "execute_result",
          "data": {
            "text/plain": [
              "14"
            ]
          },
          "metadata": {},
          "execution_count": 45
        }
      ]
    },
    {
      "cell_type": "code",
      "source": [
        "mediana(f)"
      ],
      "metadata": {
        "colab": {
          "base_uri": "https://localhost:8080/"
        },
        "id": "IcHOvQzwEYSA",
        "outputId": "d6570fa9-4e70-43d6-e68c-bc6f9cc6c8eb"
      },
      "execution_count": 46,
      "outputs": [
        {
          "output_type": "stream",
          "name": "stdout",
          "text": [
            "A lista é par\n",
            "A ordem do elemento da metade é 7.0 e o elemento é 64\n",
            "A ordem do elemento da metade +1 da lista é 8.0 e o elemento é 70\n",
            "A mediana é em: 67.0\n"
          ]
        },
        {
          "output_type": "execute_result",
          "data": {
            "text/plain": [
              "67.0"
            ]
          },
          "metadata": {},
          "execution_count": 46
        }
      ]
    },
    {
      "cell_type": "code",
      "source": [
        "f"
      ],
      "metadata": {
        "colab": {
          "base_uri": "https://localhost:8080/"
        },
        "id": "O0A432f1FrYo",
        "outputId": "753e3ead-40f6-4fe9-9a6c-bc31ae64cfc5"
      },
      "execution_count": 47,
      "outputs": [
        {
          "output_type": "execute_result",
          "data": {
            "text/plain": [
              "[54, 55, 56, 58, 59, 63, 64, 70, 75, 75, 80, 81, 93, 105]"
            ]
          },
          "metadata": {},
          "execution_count": 47
        }
      ]
    },
    {
      "cell_type": "markdown",
      "source": [
        "##2.3 Parâmetros de dispersão"
      ],
      "metadata": {
        "id": "ovKRNluQ3K1q"
      }
    },
    {
      "cell_type": "markdown",
      "source": [
        "#Amplitude"
      ],
      "metadata": {
        "id": "TpEOklPtb_qq"
      }
    },
    {
      "cell_type": "markdown",
      "source": [
        "Um array é uma estrutura multidimensional que nos permite armazenar dados na memória do nosso computador, de modo que cada item localizado nessa estrutura pode ser encontrado por meio de um esquema de indexação. O NumPy Python denomina essa estrutura como ndarray, como forma de abreviação a array N-dimensional."
      ],
      "metadata": {
        "id": "7_NFEos0cg4o"
      }
    },
    {
      "cell_type": "code",
      "source": [
        "np.array(x).max()"
      ],
      "metadata": {
        "colab": {
          "base_uri": "https://localhost:8080/"
        },
        "id": "FGqEoqwwcBiJ",
        "outputId": "bddb959c-bc42-447d-c640-2cb433fdb80a"
      },
      "execution_count": 49,
      "outputs": [
        {
          "output_type": "execute_result",
          "data": {
            "text/plain": [
              "59"
            ]
          },
          "metadata": {},
          "execution_count": 49
        }
      ]
    },
    {
      "cell_type": "code",
      "source": [
        "xmax = np.array(x).max()\n",
        "xmin = np.array(x).min()\n",
        "print(xmin)"
      ],
      "metadata": {
        "colab": {
          "base_uri": "https://localhost:8080/"
        },
        "id": "kuZ1Y5YIcH5w",
        "outputId": "93d3072f-df63-41df-a452-9182f7a39aa3"
      },
      "execution_count": 50,
      "outputs": [
        {
          "output_type": "stream",
          "name": "stdout",
          "text": [
            "18\n"
          ]
        }
      ]
    },
    {
      "cell_type": "code",
      "source": [
        "Amplitude_x = xmax - xmin\n",
        "print(Amplitude_x)"
      ],
      "metadata": {
        "colab": {
          "base_uri": "https://localhost:8080/"
        },
        "id": "O05pieKgcrsG",
        "outputId": "4e827879-2130-4cb6-d60f-a8526ff15ef2"
      },
      "execution_count": 51,
      "outputs": [
        {
          "output_type": "stream",
          "name": "stdout",
          "text": [
            "41\n"
          ]
        }
      ]
    },
    {
      "cell_type": "code",
      "source": [
        "def amplitude(a):\n",
        "  A = np.array(a).max() - np.array(a).min()\n",
        "  return A"
      ],
      "metadata": {
        "id": "mcaIblx0dG-P"
      },
      "execution_count": 52,
      "outputs": []
    },
    {
      "cell_type": "code",
      "source": [
        "print(\"Amplitude é \",amplitude(x), \"anos.\")\n",
        "print(\"Amplitude é \",amplitude(y), \"kg.\")\n",
        "print(\"Amplitude é \",amplitude(z), \"cm.\")"
      ],
      "metadata": {
        "colab": {
          "base_uri": "https://localhost:8080/"
        },
        "id": "igJ68W7OdXk9",
        "outputId": "286d9ae9-65c6-4485-915c-7afa2ea6f133"
      },
      "execution_count": 53,
      "outputs": [
        {
          "output_type": "stream",
          "name": "stdout",
          "text": [
            "Amplitude é  41 anos.\n",
            "Amplitude é  51 kg.\n",
            "Amplitude é  24 cm.\n"
          ]
        }
      ]
    },
    {
      "cell_type": "markdown",
      "source": [
        "#Desvio médio"
      ],
      "metadata": {
        "id": "Eei_m9xQePew"
      }
    },
    {
      "cell_type": "code",
      "source": [
        "def desvio_medio(lista):\n",
        "  Lista1 = []\n",
        "  for i in lista:\n",
        "    item = abs(i-np.mean(lista))\n",
        "    Lista1.append(item)\n",
        "  var = np.sum(Lista1)/len(Lista1)\n",
        "  return var\n"
      ],
      "metadata": {
        "id": "GnAF2e70iwEj"
      },
      "execution_count": 54,
      "outputs": []
    },
    {
      "cell_type": "code",
      "source": [
        "desvio_medio(x)"
      ],
      "metadata": {
        "colab": {
          "base_uri": "https://localhost:8080/"
        },
        "id": "uZMo8MjQjywm",
        "outputId": "ab109ef0-97e2-4060-a80f-db8e235b8808"
      },
      "execution_count": 55,
      "outputs": [
        {
          "output_type": "execute_result",
          "data": {
            "text/plain": [
              "8.897777777777776"
            ]
          },
          "metadata": {},
          "execution_count": 55
        }
      ]
    },
    {
      "cell_type": "code",
      "source": [
        "def desv_med(a):\n",
        "  return sum(abs(np.array(a)-np.array(a).mean())/len(a))\n",
        "\n",
        "print(\"Desvio médio:\",round(desv_med(x),2), \"anos.\")\n",
        "print(\"Desvio médio:\",round(desv_med(y),2), \"Kg.\")\n",
        "print(\"Desvio médio:\",round(desv_med(z),2), \"cm.\")"
      ],
      "metadata": {
        "colab": {
          "base_uri": "https://localhost:8080/"
        },
        "id": "7BVqaWOXdf_4",
        "outputId": "d491aba9-c52c-4f3b-fc9a-1bebea37bb23"
      },
      "execution_count": 56,
      "outputs": [
        {
          "output_type": "stream",
          "name": "stdout",
          "text": [
            "Desvio médio: 8.9 anos.\n",
            "Desvio médio: 13.43 Kg.\n",
            "Desvio médio: 5.17 cm.\n"
          ]
        }
      ]
    },
    {
      "cell_type": "markdown",
      "source": [
        "#Variância"
      ],
      "metadata": {
        "id": "9qABfxAehRFG"
      }
    },
    {
      "cell_type": "code",
      "source": [
        "def variancia(lista):\n",
        "  Lista1 = []\n",
        "  for i in lista:\n",
        "    item = abs(i-np.mean(lista))**2\n",
        "    Lista1.append(item)\n",
        "  var = np.sum(Lista1)/len(Lista1)\n",
        "  return var"
      ],
      "metadata": {
        "id": "MfaYpqlDmR8A"
      },
      "execution_count": 57,
      "outputs": []
    },
    {
      "cell_type": "code",
      "source": [
        "variancia(x)"
      ],
      "metadata": {
        "colab": {
          "base_uri": "https://localhost:8080/"
        },
        "id": "Z6HGtN6-melJ",
        "outputId": "5ebeb820-f8eb-455e-ca84-15f07eaf3bda"
      },
      "execution_count": 58,
      "outputs": [
        {
          "output_type": "execute_result",
          "data": {
            "text/plain": [
              "140.7288888888889"
            ]
          },
          "metadata": {},
          "execution_count": 58
        }
      ]
    },
    {
      "cell_type": "code",
      "source": [
        "array_Idade = np.array(x)\n",
        "array_Idade.var()"
      ],
      "metadata": {
        "colab": {
          "base_uri": "https://localhost:8080/"
        },
        "id": "oHYx_FOigIgP",
        "outputId": "fdc6fe72-b3b8-4d5c-b0e9-e68816148b2e"
      },
      "execution_count": 59,
      "outputs": [
        {
          "output_type": "execute_result",
          "data": {
            "text/plain": [
              "140.7288888888889"
            ]
          },
          "metadata": {},
          "execution_count": 59
        }
      ]
    },
    {
      "cell_type": "code",
      "source": [
        "array_Massa = np.array(y)\n",
        "array_Altura = np.array(z)\n",
        "print(\"A variância é:\",round(array_Idade.var(),2), \"anos.\")\n",
        "print(\"A variância é:\",round(array_Massa.var(),2), \"kg.\")\n",
        "print(\"A variância é:\",round(array_Altura.var(),2), \"cm.\")"
      ],
      "metadata": {
        "colab": {
          "base_uri": "https://localhost:8080/"
        },
        "id": "i7LncX5hh2K3",
        "outputId": "469c14bb-6e6a-4cb0-993f-218988bee68e"
      },
      "execution_count": 60,
      "outputs": [
        {
          "output_type": "stream",
          "name": "stdout",
          "text": [
            "A variância é: 140.73 anos.\n",
            "A variância é: 253.45 kg.\n",
            "A variância é: 39.45 cm.\n"
          ]
        }
      ]
    },
    {
      "cell_type": "markdown",
      "source": [
        "#Desvio-padrão"
      ],
      "metadata": {
        "id": "XNIHyNhRmrnk"
      }
    },
    {
      "cell_type": "code",
      "source": [
        "def desvio_padrao(lista):\n",
        "  Lista1 = []\n",
        "  for i in lista:\n",
        "    item = (i-np.mean(lista))**2\n",
        "    Lista1.append(item)\n",
        "  var = np.sum(Lista1)/len(Lista1)\n",
        "  desv_pad = np.sqrt(var)\n",
        "  return desv_pad"
      ],
      "metadata": {
        "id": "yrNFZZPaiYgG"
      },
      "execution_count": 61,
      "outputs": []
    },
    {
      "cell_type": "code",
      "source": [
        "desvio_padrao(x)"
      ],
      "metadata": {
        "colab": {
          "base_uri": "https://localhost:8080/"
        },
        "id": "jSaIz_yhnJPv",
        "outputId": "5c7c3e0e-a94a-4f07-ce8e-5fd0dbff102c"
      },
      "execution_count": 62,
      "outputs": [
        {
          "output_type": "execute_result",
          "data": {
            "text/plain": [
              "11.862920757085453"
            ]
          },
          "metadata": {},
          "execution_count": 62
        }
      ]
    },
    {
      "cell_type": "code",
      "source": [
        "def desvio_padrao2(lista):\n",
        " Listaquad = []\n",
        " for i in lista:\n",
        "    quadrados = i**2\n",
        "    Listaquad.append(quadrados)\n",
        " med_dos_quadrados = np.sum(Listaquad)/len(Listaquad)\n",
        " desv_pad2 = np.sqrt(med_dos_quadrados - np.mean(lista)**2)\n",
        " return desv_pad2"
      ],
      "metadata": {
        "id": "szYxegSFnkSs"
      },
      "execution_count": 63,
      "outputs": []
    },
    {
      "cell_type": "code",
      "source": [
        "desvio_padrao2(x)"
      ],
      "metadata": {
        "colab": {
          "base_uri": "https://localhost:8080/"
        },
        "id": "T96_CXWVp4_D",
        "outputId": "4065b0dd-e328-45e4-d218-de911d970228"
      },
      "execution_count": 64,
      "outputs": [
        {
          "output_type": "execute_result",
          "data": {
            "text/plain": [
              "11.862920757085455"
            ]
          },
          "metadata": {},
          "execution_count": 64
        }
      ]
    },
    {
      "cell_type": "markdown",
      "source": [
        "Pulo do gato"
      ],
      "metadata": {
        "id": "S_TGLRVtqrdc"
      }
    },
    {
      "cell_type": "code",
      "source": [
        "np.sqrt(variancia(x))"
      ],
      "metadata": {
        "colab": {
          "base_uri": "https://localhost:8080/"
        },
        "id": "RIzaAlrUqm-I",
        "outputId": "8b4223b9-b196-4b84-8421-5f55ca337f31"
      },
      "execution_count": 65,
      "outputs": [
        {
          "output_type": "execute_result",
          "data": {
            "text/plain": [
              "11.862920757085453"
            ]
          },
          "metadata": {},
          "execution_count": 65
        }
      ]
    },
    {
      "cell_type": "markdown",
      "source": [
        "#Largura a meia altura"
      ],
      "metadata": {
        "id": "DcNdiBaZqapL"
      }
    },
    {
      "cell_type": "markdown",
      "source": [
        "Exemplo 1"
      ],
      "metadata": {
        "id": "sjNkrAoE1S9m"
      }
    },
    {
      "cell_type": "code",
      "source": [
        "fig = plt.figure( figsize=(8,6) )\n",
        "plt.hist( x, bins = 48, color='green' )\n",
        "plt.xlim( 16, 64 )\n",
        "plt.xlabel( \"Idade (anos)\")\n",
        "plt.ylabel( \"Frequência\" )\n",
        "plt.title(\"Histograma das idades\")"
      ],
      "metadata": {
        "id": "iFAmEom0qB63",
        "colab": {
          "base_uri": "https://localhost:8080/",
          "height": 581
        },
        "outputId": "0adefeb8-cb7d-44a5-d478-f9a8da164260"
      },
      "execution_count": 66,
      "outputs": [
        {
          "output_type": "execute_result",
          "data": {
            "text/plain": [
              "Text(0.5, 1.0, 'Histograma das idades')"
            ]
          },
          "metadata": {},
          "execution_count": 66
        },
        {
          "output_type": "display_data",
          "data": {
            "text/plain": [
              "<Figure size 800x600 with 1 Axes>"
            ],
            "image/png": "[encoded data removed]"
          },
          "metadata": {}
        }
      ]
    },
    {
      "cell_type": "code",
      "source": [
        "x2 = 20\n",
        "x1 = 18\n",
        "L = abs(x2 - x1)\n",
        "print(\"Largura a meia altura é:\",L)"
      ],
      "metadata": {
        "colab": {
          "base_uri": "https://localhost:8080/"
        },
        "id": "9lpjmH9V1Rg9",
        "outputId": "d56872c3-cfb9-46c6-de2d-4aeedf17d3b1"
      },
      "execution_count": 67,
      "outputs": [
        {
          "output_type": "stream",
          "name": "stdout",
          "text": [
            "Largura a meia altura é: 2\n"
          ]
        }
      ]
    },
    {
      "cell_type": "markdown",
      "source": [
        "Exemplo 2"
      ],
      "metadata": {
        "id": "UNVx8-Z81wsj"
      }
    },
    {
      "cell_type": "code",
      "source": [
        "fig = plt.figure( figsize=(8,6) )\n",
        "plt.hist( y, bins = 100, color='orange' )\n",
        "plt.xlabel( \"Massa(kg)\")\n",
        "plt.ylabel( \"Frequência\" )\n",
        "plt.title(\"Histograma das massas\")"
      ],
      "metadata": {
        "colab": {
          "base_uri": "https://localhost:8080/",
          "height": 581
        },
        "id": "rJAU_5pT1bxp",
        "outputId": "638a60c1-108b-4e53-c6ff-e70b36c24508"
      },
      "execution_count": 68,
      "outputs": [
        {
          "output_type": "execute_result",
          "data": {
            "text/plain": [
              "Text(0.5, 1.0, 'Histograma das massas')"
            ]
          },
          "metadata": {},
          "execution_count": 68
        },
        {
          "output_type": "display_data",
          "data": {
            "text/plain": [
              "<Figure size 800x600 with 1 Axes>"
            ],
            "image/png": "[encoded data removed]"
          },
          "metadata": {}
        }
      ]
    },
    {
      "cell_type": "code",
      "source": [
        "x2 = 105\n",
        "x1 = 54\n",
        "L1 = abs(x2 - x1)\n",
        "print(\"Largura a meia altura é:\",L1)"
      ],
      "metadata": {
        "colab": {
          "base_uri": "https://localhost:8080/"
        },
        "id": "TfQ-1OVx10YH",
        "outputId": "088a8b75-654b-4364-bc82-3c765111ab62"
      },
      "execution_count": 69,
      "outputs": [
        {
          "output_type": "stream",
          "name": "stdout",
          "text": [
            "Largura a meia altura é: 51\n"
          ]
        }
      ]
    },
    {
      "cell_type": "markdown",
      "source": [
        "##2.4 Parâmetros de correlação"
      ],
      "metadata": {
        "id": "765kn9Bb29Ib"
      }
    },
    {
      "cell_type": "markdown",
      "source": [
        "Gráfico de dispersão"
      ],
      "metadata": {
        "id": "Xu_4aDc7Ehni"
      }
    },
    {
      "cell_type": "code",
      "source": [
        "array_Idade = np.array(x)\n",
        "array_Massa = np.array(y)\n",
        "array_Altura = np.array(z)"
      ],
      "metadata": {
        "id": "woIexd2StNXO"
      },
      "execution_count": 70,
      "outputs": []
    },
    {
      "cell_type": "code",
      "source": [
        "fig = plt.figure( figsize=(8,6) )\n",
        "\n",
        "plt.plot( array_Idade, array_Massa, 'o' )\n",
        "plt.xlim( 15, 55 )\n",
        "plt.ylim( 40., 140. )\n",
        "plt.xlabel( \"Idade (anos)\", fontsize=18 )\n",
        "plt.ylabel( \"Massa (kg)\", fontsize=18 )\n",
        "plt.title('Diagrama de Dispersão: Idade (anos) vs. Massa (kg)')"
      ],
      "metadata": {
        "colab": {
          "base_uri": "https://localhost:8080/",
          "height": 591
        },
        "id": "v2iwST2qEklB",
        "outputId": "a2c5748f-e1bc-4730-c1b1-dbfcfabff742"
      },
      "execution_count": 71,
      "outputs": [
        {
          "output_type": "execute_result",
          "data": {
            "text/plain": [
              "Text(0.5, 1.0, 'Diagrama de Dispersão: Idade (anos) vs. Massa (kg)')"
            ]
          },
          "metadata": {},
          "execution_count": 71
        },
        {
          "output_type": "display_data",
          "data": {
            "text/plain": [
              "<Figure size 800x600 with 1 Axes>"
            ],
            "image/png": "[encoded data removed]"
          },
          "metadata": {}
        }
      ]
    },
    {
      "cell_type": "code",
      "source": [
        "fig = plt.figure( figsize=(8,6) )\n",
        "\n",
        "plt.plot( array_Idade, array_Altura, 'x' )\n",
        "plt.xlim( 15, 55 )\n",
        "plt.ylim( 155, 200 )\n",
        "plt.xlabel( \"Idade (anos)\", fontsize=18 )\n",
        "plt.ylabel( \"Altura (cm)\", fontsize=18 )\n",
        "plt.title('Diagrama de Dispersão: Idade (anos) vs. Altura (cm)')"
      ],
      "metadata": {
        "colab": {
          "base_uri": "https://localhost:8080/",
          "height": 591
        },
        "id": "O95TmGRHE1Uf",
        "outputId": "84c6f397-e295-4cc2-ebe7-b3eaf7feadab"
      },
      "execution_count": 72,
      "outputs": [
        {
          "output_type": "execute_result",
          "data": {
            "text/plain": [
              "Text(0.5, 1.0, 'Diagrama de Dispersão: Idade (anos) vs. Altura (cm)')"
            ]
          },
          "metadata": {},
          "execution_count": 72
        },
        {
          "output_type": "display_data",
          "data": {
            "text/plain": [
              "<Figure size 800x600 with 1 Axes>"
            ],
            "image/png": "[encoded data removed]"
          },
          "metadata": {}
        }
      ]
    },
    {
      "cell_type": "code",
      "source": [
        "fig = plt.figure( figsize=(8,6) )\n",
        "\n",
        "plt.plot( array_Altura, array_Massa, 'o' )\n",
        "plt.xlim( 155, 200 )\n",
        "plt.ylim( 40., 140. )\n",
        "plt.xlabel( \"Altura (cm)\", fontsize=18 )\n",
        "plt.ylabel( \"Massa (kg)\", fontsize=18 )\n",
        "plt.title('Diagrama de Dispersão: Massa (kg) vs. Altura (cm)')"
      ],
      "metadata": {
        "colab": {
          "base_uri": "https://localhost:8080/",
          "height": 591
        },
        "id": "oncxxt8uE8Ej",
        "outputId": "adcb3ad2-ea2a-4ddf-b114-bf2ced441c8e"
      },
      "execution_count": 86,
      "outputs": [
        {
          "output_type": "execute_result",
          "data": {
            "text/plain": [
              "Text(0.5, 1.0, 'Diagrama de Dispersão: Massa (kg) vs. Altura (cm)')"
            ]
          },
          "metadata": {},
          "execution_count": 86
        },
        {
          "output_type": "display_data",
          "data": {
            "text/plain": [
              "<Figure size 800x600 with 1 Axes>"
            ],
            "image/png": "[encoded data removed]"
          },
          "metadata": {}
        }
      ]
    },
    {
      "cell_type": "markdown",
      "source": [
        "Covariância"
      ],
      "metadata": {
        "id": "9ruPdpsv_i5a"
      }
    },
    {
      "cell_type": "code",
      "source": [
        "covariancia = np.mean( array_Idade * array_Massa ) - np.mean( array_Idade ) * np.mean( array_Massa )\n",
        "print(\"A covariância entre idade e massa é de\",covariancia)"
      ],
      "metadata": {
        "colab": {
          "base_uri": "https://localhost:8080/"
        },
        "id": "A9qnaLg3A2ig",
        "outputId": "259f5f88-4c97-4222-e276-4cfc08212bb1"
      },
      "execution_count": 74,
      "outputs": [
        {
          "output_type": "stream",
          "name": "stdout",
          "text": [
            "A covariância entre idade e massa é de 149.7022222222222\n"
          ]
        }
      ]
    },
    {
      "cell_type": "code",
      "source": [
        "covariancia = np.mean( array_Idade * array_Altura ) - np.mean( array_Idade ) * np.mean( array_Altura )\n",
        "print(\"A covariância entre idade e altura é de\",covariancia)"
      ],
      "metadata": {
        "colab": {
          "base_uri": "https://localhost:8080/"
        },
        "id": "gY4aej6wBmqx",
        "outputId": "4c58f126-eeba-4ade-958c-48768c3b9bc6"
      },
      "execution_count": 75,
      "outputs": [
        {
          "output_type": "stream",
          "name": "stdout",
          "text": [
            "A covariância entre idade e altura é de 6.568888888888978\n"
          ]
        }
      ]
    },
    {
      "cell_type": "code",
      "source": [
        "covariancia = np.mean( array_Massa * array_Altura ) - np.mean( array_Massa ) * np.mean( array_Altura )\n",
        "print(\"A covariância entre massa e altura é de\",covariancia)"
      ],
      "metadata": {
        "colab": {
          "base_uri": "https://localhost:8080/"
        },
        "id": "aJA-yWdmBwVr",
        "outputId": "199d0759-9abf-4344-f745-bd7de9ea15a5"
      },
      "execution_count": 76,
      "outputs": [
        {
          "output_type": "stream",
          "name": "stdout",
          "text": [
            "A covariância entre massa e altura é de 44.18222222222175\n"
          ]
        }
      ]
    },
    {
      "cell_type": "code",
      "source": [
        "np.cov(x,y) #página 29"
      ],
      "metadata": {
        "colab": {
          "base_uri": "https://localhost:8080/"
        },
        "id": "uo1A72OO2tpk",
        "outputId": "de2a41f1-7294-4ae0-9f29-dfbe09ab66ae"
      },
      "execution_count": 77,
      "outputs": [
        {
          "output_type": "execute_result",
          "data": {
            "text/plain": [
              "array([[150.78095238, 160.3952381 ],\n",
              "       [160.3952381 , 271.55238095]])"
            ]
          },
          "metadata": {},
          "execution_count": 77
        }
      ]
    },
    {
      "cell_type": "code",
      "source": [
        "np.cov(x,y, ddof=0) #página 29"
      ],
      "metadata": {
        "colab": {
          "base_uri": "https://localhost:8080/"
        },
        "id": "ZuZ3gwsgBk2h",
        "outputId": "e3f90864-2ebb-45d8-df84-18f3c1ce64cf"
      },
      "execution_count": 78,
      "outputs": [
        {
          "output_type": "execute_result",
          "data": {
            "text/plain": [
              "array([[140.72888889, 149.70222222],\n",
              "       [149.70222222, 253.44888889]])"
            ]
          },
          "metadata": {},
          "execution_count": 78
        }
      ]
    },
    {
      "cell_type": "code",
      "source": [
        "def covariancia(array1,array2):\n",
        "  cov = np.mean( array1 * array2) - np.mean( array1 ) * np.mean( array2 )\n",
        "  return cov"
      ],
      "metadata": {
        "id": "y-qovYa6DbqJ"
      },
      "execution_count": 79,
      "outputs": []
    },
    {
      "cell_type": "code",
      "source": [
        "covariancia(array_Idade,array_Altura)"
      ],
      "metadata": {
        "id": "f4Uwl9MW17Mj",
        "colab": {
          "base_uri": "https://localhost:8080/"
        },
        "outputId": "8fc7b6a9-7882-45ec-a0af-4b1f7a853817"
      },
      "execution_count": 80,
      "outputs": [
        {
          "output_type": "execute_result",
          "data": {
            "text/plain": [
              "6.568888888888978"
            ]
          },
          "metadata": {},
          "execution_count": 80
        }
      ]
    },
    {
      "cell_type": "markdown",
      "source": [
        "Coeficiente de correlação linear de Pearson"
      ],
      "metadata": {
        "id": "nxu_a9uHCs-Y"
      }
    },
    {
      "cell_type": "code",
      "source": [
        "r = (covariancia(array_Idade,array_Massa))/(np.sqrt(variancia(x))*np.sqrt(variancia(y)))\n",
        "print(r)"
      ],
      "metadata": {
        "colab": {
          "base_uri": "https://localhost:8080/"
        },
        "id": "13Nx4qN1ATu8",
        "outputId": "f6a40f75-9d83-4b37-bf1f-c270bb1dd86e"
      },
      "execution_count": 81,
      "outputs": [
        {
          "output_type": "stream",
          "name": "stdout",
          "text": [
            "0.7926681750480892\n"
          ]
        }
      ]
    },
    {
      "cell_type": "code",
      "source": [
        "r = (covariancia(array_Idade,array_Altura))/(np.sqrt(variancia(x))*np.sqrt(variancia(z)))\n",
        "print(r)"
      ],
      "metadata": {
        "colab": {
          "base_uri": "https://localhost:8080/"
        },
        "id": "PurBj-K6DO87",
        "outputId": "9cc1a9a2-ebfe-44fe-f6d7-024866f725c0"
      },
      "execution_count": 82,
      "outputs": [
        {
          "output_type": "stream",
          "name": "stdout",
          "text": [
            "0.0881622974035646\n"
          ]
        }
      ]
    },
    {
      "cell_type": "code",
      "source": [
        "r = (covariancia(array_Massa,array_Altura))/(np.sqrt(variancia(y))*np.sqrt(variancia(z)))\n",
        "print(r)"
      ],
      "metadata": {
        "colab": {
          "base_uri": "https://localhost:8080/"
        },
        "id": "jc4uEkCkEJfs",
        "outputId": "dec26cf1-494e-4597-edc5-25050acbed43"
      },
      "execution_count": 83,
      "outputs": [
        {
          "output_type": "stream",
          "name": "stdout",
          "text": [
            "0.44186028887117623\n"
          ]
        }
      ]
    },
    {
      "cell_type": "markdown",
      "source": [
        "##Ajuste linear"
      ],
      "metadata": {
        "id": "OERt75cOjxSG"
      }
    },
    {
      "cell_type": "markdown",
      "source": [
        "**Próxima aula...**"
      ],
      "metadata": {
        "id": "Y7lLq9f5mJxS"
      }
    }
  ]
}