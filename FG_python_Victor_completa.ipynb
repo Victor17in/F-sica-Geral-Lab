{
  "nbformat": 4,
  "nbformat_minor": 0,
  "metadata": {
    "colab": {
      "provenance": []
    },
    "kernelspec": {
      "name": "python3",
      "display_name": "Python 3"
    },
    "language_info": {
      "name": "python"
    }
  },
  "cells": [
    {
      "cell_type": "markdown",
      "source": [
        "#Bibliotecas"
      ],
      "metadata": {
        "id": "ZBDlHFy0yzMg"
      }
    },
    {
      "cell_type": "code",
      "execution_count": 1,
      "metadata": {
        "id": "xCleznciyniA"
      },
      "outputs": [],
      "source": [
        "import numpy as np\n",
        "import pandas as pd\n",
        "import matplotlib as mpl\n",
        "import matplotlib.pyplot as plt\n",
        "import statistics"
      ]
    },
    {
      "cell_type": "markdown",
      "source": [
        "#Dados em listas"
      ],
      "metadata": {
        "id": "3RNYLJjOy5XQ"
      }
    },
    {
      "cell_type": "code",
      "source": [
        "x = [27,25,23,46,19,18,18,39,20,20,18,19,22,18,59] # idade\n",
        "y = [70,54,80,105,63,75,75,93,81,59,56,55,64,58,99] # massa\n",
        "z = [179,165,175,179,170,178,184,177,174,179,165,172,175,160,170] # altura "
      ],
      "metadata": {
        "id": "iCEsTUkny34S"
      },
      "execution_count": 2,
      "outputs": []
    },
    {
      "cell_type": "code",
      "source": [
        "len(x)"
      ],
      "metadata": {
        "colab": {
          "base_uri": "https://localhost:8080/"
        },
        "id": "e78cUfAD1MPN",
        "outputId": "2ae62ab7-37b4-4445-e438-a9fe7191c6c6"
      },
      "execution_count": 3,
      "outputs": [
        {
          "output_type": "execute_result",
          "data": {
            "text/plain": [
              "15"
            ]
          },
          "metadata": {},
          "execution_count": 3
        }
      ]
    },
    {
      "cell_type": "code",
      "source": [
        "print(len(x))\n",
        "print(len(y))\n",
        "print(len(z))"
      ],
      "metadata": {
        "colab": {
          "base_uri": "https://localhost:8080/"
        },
        "id": "2Ypk8wOa0_pE",
        "outputId": "7d9393cf-f80f-4735-84c8-208c70065f6a"
      },
      "execution_count": 4,
      "outputs": [
        {
          "output_type": "stream",
          "name": "stdout",
          "text": [
            "15\n",
            "15\n",
            "15\n"
          ]
        }
      ]
    },
    {
      "cell_type": "markdown",
      "source": [
        "##2.1Tabelas e histogramas"
      ],
      "metadata": {
        "id": "57uuJzKVwC9K"
      }
    },
    {
      "cell_type": "code",
      "source": [
        "pd.DataFrame({'Idade':x,'Massa':y,'Altura':z, }) #dicionário em um DataFrame"
      ],
      "metadata": {
        "colab": {
          "base_uri": "https://localhost:8080/",
          "height": 519
        },
        "id": "CfeldQy03t4a",
        "outputId": "c2d549c2-e17f-4b1f-d68b-d31825f49c3c"
      },
      "execution_count": 47,
      "outputs": [
        {
          "output_type": "execute_result",
          "data": {
            "text/plain": [
              "    Idade  Massa  Altura\n",
              "0      27     70     179\n",
              "1      25     54     165\n",
              "2      23     80     175\n",
              "3      46    105     179\n",
              "4      19     63     170\n",
              "5      18     75     178\n",
              "6      18     75     184\n",
              "7      39     93     177\n",
              "8      20     81     174\n",
              "9      20     59     179\n",
              "10     18     56     165\n",
              "11     19     55     172\n",
              "12     22     64     175\n",
              "13     18     58     160\n",
              "14     59     99     170"
            ],
            "text/html": [
              "\n",
              "  <div id=\"df-41ff9a45-8e40-4417-92f9-ff69aee6c31a\">\n",
              "    <div class=\"colab-df-container\">\n",
              "      <div>\n",
              "<style scoped>\n",
              "    .dataframe tbody tr th:only-of-type {\n",
              "        vertical-align: middle;\n",
              "    }\n",
              "\n",
              "    .dataframe tbody tr th {\n",
              "        vertical-align: top;\n",
              "    }\n",
              "\n",
              "    .dataframe thead th {\n",
              "        text-align: right;\n",
              "    }\n",
              "</style>\n",
              "<table border=\"1\" class=\"dataframe\">\n",
              "  <thead>\n",
              "    <tr style=\"text-align: right;\">\n",
              "      <th></th>\n",
              "      <th>Idade</th>\n",
              "      <th>Massa</th>\n",
              "      <th>Altura</th>\n",
              "    </tr>\n",
              "  </thead>\n",
              "  <tbody>\n",
              "    <tr>\n",
              "      <th>0</th>\n",
              "      <td>27</td>\n",
              "      <td>70</td>\n",
              "      <td>179</td>\n",
              "    </tr>\n",
              "    <tr>\n",
              "      <th>1</th>\n",
              "      <td>25</td>\n",
              "      <td>54</td>\n",
              "      <td>165</td>\n",
              "    </tr>\n",
              "    <tr>\n",
              "      <th>2</th>\n",
              "      <td>23</td>\n",
              "      <td>80</td>\n",
              "      <td>175</td>\n",
              "    </tr>\n",
              "    <tr>\n",
              "      <th>3</th>\n",
              "      <td>46</td>\n",
              "      <td>105</td>\n",
              "      <td>179</td>\n",
              "    </tr>\n",
              "    <tr>\n",
              "      <th>4</th>\n",
              "      <td>19</td>\n",
              "      <td>63</td>\n",
              "      <td>170</td>\n",
              "    </tr>\n",
              "    <tr>\n",
              "      <th>5</th>\n",
              "      <td>18</td>\n",
              "      <td>75</td>\n",
              "      <td>178</td>\n",
              "    </tr>\n",
              "    <tr>\n",
              "      <th>6</th>\n",
              "      <td>18</td>\n",
              "      <td>75</td>\n",
              "      <td>184</td>\n",
              "    </tr>\n",
              "    <tr>\n",
              "      <th>7</th>\n",
              "      <td>39</td>\n",
              "      <td>93</td>\n",
              "      <td>177</td>\n",
              "    </tr>\n",
              "    <tr>\n",
              "      <th>8</th>\n",
              "      <td>20</td>\n",
              "      <td>81</td>\n",
              "      <td>174</td>\n",
              "    </tr>\n",
              "    <tr>\n",
              "      <th>9</th>\n",
              "      <td>20</td>\n",
              "      <td>59</td>\n",
              "      <td>179</td>\n",
              "    </tr>\n",
              "    <tr>\n",
              "      <th>10</th>\n",
              "      <td>18</td>\n",
              "      <td>56</td>\n",
              "      <td>165</td>\n",
              "    </tr>\n",
              "    <tr>\n",
              "      <th>11</th>\n",
              "      <td>19</td>\n",
              "      <td>55</td>\n",
              "      <td>172</td>\n",
              "    </tr>\n",
              "    <tr>\n",
              "      <th>12</th>\n",
              "      <td>22</td>\n",
              "      <td>64</td>\n",
              "      <td>175</td>\n",
              "    </tr>\n",
              "    <tr>\n",
              "      <th>13</th>\n",
              "      <td>18</td>\n",
              "      <td>58</td>\n",
              "      <td>160</td>\n",
              "    </tr>\n",
              "    <tr>\n",
              "      <th>14</th>\n",
              "      <td>59</td>\n",
              "      <td>99</td>\n",
              "      <td>170</td>\n",
              "    </tr>\n",
              "  </tbody>\n",
              "</table>\n",
              "</div>\n",
              "      <button class=\"colab-df-convert\" onclick=\"convertToInteractive('df-41ff9a45-8e40-4417-92f9-ff69aee6c31a')\"\n",
              "              title=\"Convert this dataframe to an interactive table.\"\n",
              "              style=\"display:none;\">\n",
              "        \n",
              "  <svg xmlns=\"http://www.w3.org/2000/svg\" height=\"24px\"viewBox=\"0 0 24 24\"\n",
              "       width=\"24px\">\n",
              "    <path d=\"M0 0h24v24H0V0z\" fill=\"none\"/>\n",
              "    <path d=\"M18.56 5.44l.94 2.06.94-2.06 2.06-.94-2.06-.94-.94-2.06-.94 2.06-2.06.94zm-11 1L8.5 8.5l.94-2.06 2.06-.94-2.06-.94L8.5 2.5l-.94 2.06-2.06.94zm10 10l.94 2.06.94-2.06 2.06-.94-2.06-.94-.94-2.06-.94 2.06-2.06.94z\"/><path d=\"M17.41 7.96l-1.37-1.37c-.4-.4-.92-.59-1.43-.59-.52 0-1.04.2-1.43.59L10.3 9.45l-7.72 7.72c-.78.78-.78 2.05 0 2.83L4 21.41c.39.39.9.59 1.41.59.51 0 1.02-.2 1.41-.59l7.78-7.78 2.81-2.81c.8-.78.8-2.07 0-2.86zM5.41 20L4 18.59l7.72-7.72 1.47 1.35L5.41 20z\"/>\n",
              "  </svg>\n",
              "      </button>\n",
              "      \n",
              "  <style>\n",
              "    .colab-df-container {\n",
              "      display:flex;\n",
              "      flex-wrap:wrap;\n",
              "      gap: 12px;\n",
              "    }\n",
              "\n",
              "    .colab-df-convert {\n",
              "      background-color: #E8F0FE;\n",
              "      border: none;\n",
              "      border-radius: 50%;\n",
              "      cursor: pointer;\n",
              "      display: none;\n",
              "      fill: #1967D2;\n",
              "      height: 32px;\n",
              "      padding: 0 0 0 0;\n",
              "      width: 32px;\n",
              "    }\n",
              "\n",
              "    .colab-df-convert:hover {\n",
              "      background-color: #E2EBFA;\n",
              "      box-shadow: 0px 1px 2px rgba(60, 64, 67, 0.3), 0px 1px 3px 1px rgba(60, 64, 67, 0.15);\n",
              "      fill: #174EA6;\n",
              "    }\n",
              "\n",
              "    [theme=dark] .colab-df-convert {\n",
              "      background-color: #3B4455;\n",
              "      fill: #D2E3FC;\n",
              "    }\n",
              "\n",
              "    [theme=dark] .colab-df-convert:hover {\n",
              "      background-color: #434B5C;\n",
              "      box-shadow: 0px 1px 3px 1px rgba(0, 0, 0, 0.15);\n",
              "      filter: drop-shadow(0px 1px 2px rgba(0, 0, 0, 0.3));\n",
              "      fill: #FFFFFF;\n",
              "    }\n",
              "  </style>\n",
              "\n",
              "      <script>\n",
              "        const buttonEl =\n",
              "          document.querySelector('#df-41ff9a45-8e40-4417-92f9-ff69aee6c31a button.colab-df-convert');\n",
              "        buttonEl.style.display =\n",
              "          google.colab.kernel.accessAllowed ? 'block' : 'none';\n",
              "\n",
              "        async function convertToInteractive(key) {\n",
              "          const element = document.querySelector('#df-41ff9a45-8e40-4417-92f9-ff69aee6c31a');\n",
              "          const dataTable =\n",
              "            await google.colab.kernel.invokeFunction('convertToInteractive',\n",
              "                                                     [key], {});\n",
              "          if (!dataTable) return;\n",
              "\n",
              "          const docLinkHtml = 'Like what you see? Visit the ' +\n",
              "            '<a target=\"_blank\" href=https://colab.research.google.com/notebooks/data_table.ipynb>data table notebook</a>'\n",
              "            + ' to learn more about interactive tables.';\n",
              "          element.innerHTML = '';\n",
              "          dataTable['output_type'] = 'display_data';\n",
              "          await google.colab.output.renderOutput(dataTable, element);\n",
              "          const docLink = document.createElement('div');\n",
              "          docLink.innerHTML = docLinkHtml;\n",
              "          element.appendChild(docLink);\n",
              "        }\n",
              "      </script>\n",
              "    </div>\n",
              "  </div>\n",
              "  "
            ]
          },
          "metadata": {},
          "execution_count": 47
        }
      ]
    },
    {
      "cell_type": "code",
      "source": [
        "plt.hist( x )\n",
        "plt.xlabel( \"Idade (anos)\")\n",
        "plt.ylabel( \"Frequência\" )"
      ],
      "metadata": {
        "colab": {
          "base_uri": "https://localhost:8080/",
          "height": 297
        },
        "id": "DweRFDWuxZbN",
        "outputId": "4ad448a7-3995-4b4c-c8f7-81b08ac056e2"
      },
      "execution_count": 6,
      "outputs": [
        {
          "output_type": "execute_result",
          "data": {
            "text/plain": [
              "Text(0, 0.5, 'Frequência')"
            ]
          },
          "metadata": {},
          "execution_count": 6
        },
        {
          "output_type": "display_data",
          "data": {
            "text/plain": [
              "<Figure size 432x288 with 1 Axes>"
            ],
            "image/png": "[encoded data removed]"
          },
          "metadata": {
            "needs_background": "light"
          }
        }
      ]
    },
    {
      "cell_type": "code",
      "source": [
        "plt.hist( x, bins = 45 )\n",
        "plt.xlabel( \"Idade (anos)\")\n",
        "plt.ylabel( \"Frequência\" )"
      ],
      "metadata": {
        "colab": {
          "base_uri": "https://localhost:8080/",
          "height": 297
        },
        "id": "g4R15isMx_t1",
        "outputId": "f58b03ef-5540-4ed7-c00f-22ae5b5a44d9"
      },
      "execution_count": 9,
      "outputs": [
        {
          "output_type": "execute_result",
          "data": {
            "text/plain": [
              "Text(0, 0.5, 'Frequência')"
            ]
          },
          "metadata": {},
          "execution_count": 9
        },
        {
          "output_type": "display_data",
          "data": {
            "text/plain": [
              "<Figure size 432x288 with 1 Axes>"
            ],
            "image/png": "[encoded data removed]"
          },
          "metadata": {
            "needs_background": "light"
          }
        }
      ]
    },
    {
      "cell_type": "code",
      "source": [
        "plt.hist( x, bins = 48 )\n",
        "plt.xlim( 16, 64 )\n",
        "plt.xlabel( \"Idade (anos)\")\n",
        "plt.ylabel( \"Frequência\" )"
      ],
      "metadata": {
        "colab": {
          "base_uri": "https://localhost:8080/",
          "height": 297
        },
        "id": "VHXpGr4oyZF7",
        "outputId": "1574eac7-7569-4911-b3cd-b93be4ce2337"
      },
      "execution_count": 13,
      "outputs": [
        {
          "output_type": "execute_result",
          "data": {
            "text/plain": [
              "Text(0, 0.5, 'Frequência')"
            ]
          },
          "metadata": {},
          "execution_count": 13
        },
        {
          "output_type": "display_data",
          "data": {
            "text/plain": [
              "<Figure size 432x288 with 1 Axes>"
            ],
            "image/png": "[encoded data removed]"
          },
          "metadata": {
            "needs_background": "light"
          }
        }
      ]
    },
    {
      "cell_type": "code",
      "source": [
        "plt.hist( x, bins = 48, color='green' )\n",
        "plt.xlim( 16, 64 )\n",
        "plt.xlabel( \"Idade (anos)\")\n",
        "plt.ylabel( \"Frequência\" )"
      ],
      "metadata": {
        "colab": {
          "base_uri": "https://localhost:8080/",
          "height": 297
        },
        "id": "LsZzOTlmx436",
        "outputId": "ac81d6bb-7b2f-4162-8481-dfe328cb39ab"
      },
      "execution_count": 14,
      "outputs": [
        {
          "output_type": "execute_result",
          "data": {
            "text/plain": [
              "Text(0, 0.5, 'Frequência')"
            ]
          },
          "metadata": {},
          "execution_count": 14
        },
        {
          "output_type": "display_data",
          "data": {
            "text/plain": [
              "<Figure size 432x288 with 1 Axes>"
            ],
            "image/png": "[encoded data removed]"
          },
          "metadata": {
            "needs_background": "light"
          }
        }
      ]
    },
    {
      "cell_type": "code",
      "source": [
        "fig = plt.figure( figsize=(8,6) )\n",
        "plt.hist( x, bins = 48, color='green' )\n",
        "plt.xlim( 16, 64 )\n",
        "plt.xlabel( \"Idade (anos)\")\n",
        "plt.ylabel( \"Frequência\" )\n",
        "plt.title(\"Histograma das idades\")"
      ],
      "metadata": {
        "colab": {
          "base_uri": "https://localhost:8080/",
          "height": 422
        },
        "id": "Zx1qqf2JwUhk",
        "outputId": "0f80d4e1-4eb5-4c1c-dd2c-16ebce5d31ab"
      },
      "execution_count": 23,
      "outputs": [
        {
          "output_type": "execute_result",
          "data": {
            "text/plain": [
              "Text(0.5, 1.0, 'Histograma das idades')"
            ]
          },
          "metadata": {},
          "execution_count": 23
        },
        {
          "output_type": "display_data",
          "data": {
            "text/plain": [
              "<Figure size 576x432 with 1 Axes>"
            ],
            "image/png": "[encoded data removed]"
          },
          "metadata": {
            "needs_background": "light"
          }
        }
      ]
    },
    {
      "cell_type": "code",
      "source": [
        "fig = plt.figure( figsize=(8,6) )\n",
        "plt.hist( y, bins = 100, color='orange' )\n",
        "# plt.xlim( 16, 64 )\n",
        "plt.xlabel( \"Massa(kg)\")\n",
        "plt.ylabel( \"Frequência\" )\n",
        "plt.title(\"Histograma das massas\")"
      ],
      "metadata": {
        "colab": {
          "base_uri": "https://localhost:8080/",
          "height": 422
        },
        "id": "a7zw7hqwzqlV",
        "outputId": "433d7169-42cd-454e-d767-52973c01c46b"
      },
      "execution_count": 34,
      "outputs": [
        {
          "output_type": "execute_result",
          "data": {
            "text/plain": [
              "Text(0.5, 1.0, 'Histograma das massas')"
            ]
          },
          "metadata": {},
          "execution_count": 34
        },
        {
          "output_type": "display_data",
          "data": {
            "text/plain": [
              "<Figure size 576x432 with 1 Axes>"
            ],
            "image/png": "[encoded data removed]"
          },
          "metadata": {
            "needs_background": "light"
          }
        }
      ]
    },
    {
      "cell_type": "code",
      "source": [
        "fig = plt.figure( figsize=(8,6) )\n",
        "plt.hist( z, bins = 60, color='red' )\n",
        "# plt.xlim( 16, 64 )\n",
        "plt.xlabel( \"Altura(cm)\")\n",
        "plt.ylabel( \"Frequência\" )\n",
        "plt.title(\"Histograma das massas\")"
      ],
      "metadata": {
        "colab": {
          "base_uri": "https://localhost:8080/",
          "height": 422
        },
        "id": "U0QtGFSw0RQz",
        "outputId": "ebc4967a-b3c4-47ca-d695-0913c703a9b8"
      },
      "execution_count": 35,
      "outputs": [
        {
          "output_type": "execute_result",
          "data": {
            "text/plain": [
              "Text(0.5, 1.0, 'Histograma das massas')"
            ]
          },
          "metadata": {},
          "execution_count": 35
        },
        {
          "output_type": "display_data",
          "data": {
            "text/plain": [
              "<Figure size 576x432 with 1 Axes>"
            ],
            "image/png": "[encoded data removed]"
          },
          "metadata": {
            "needs_background": "light"
          }
        }
      ]
    },
    {
      "cell_type": "markdown",
      "source": [
        "## 2.2 Parâmetros de posição"
      ],
      "metadata": {
        "id": "px92Smff3Rky"
      }
    },
    {
      "cell_type": "markdown",
      "source": [
        "#Média"
      ],
      "metadata": {
        "id": "9v-tg98310mW"
      }
    },
    {
      "cell_type": "code",
      "source": [
        "np.sum(x)"
      ],
      "metadata": {
        "colab": {
          "base_uri": "https://localhost:8080/"
        },
        "id": "9vJB22K02A_P",
        "outputId": "1f15ea2c-f40d-4bb3-9b7a-05353656c7d5"
      },
      "execution_count": null,
      "outputs": [
        {
          "output_type": "execute_result",
          "data": {
            "text/plain": [
              "391"
            ]
          },
          "metadata": {},
          "execution_count": 10
        }
      ]
    },
    {
      "cell_type": "code",
      "source": [
        "media_x = np.sum(x)/len(x)\n",
        "print(media_x)"
      ],
      "metadata": {
        "colab": {
          "base_uri": "https://localhost:8080/"
        },
        "id": "eVBMJVF02J9J",
        "outputId": "4a02a769-47a7-4525-f506-630bda13db36"
      },
      "execution_count": null,
      "outputs": [
        {
          "output_type": "stream",
          "name": "stdout",
          "text": [
            "26.066666666666666\n"
          ]
        }
      ]
    },
    {
      "cell_type": "code",
      "source": [
        "np.mean(x)"
      ],
      "metadata": {
        "colab": {
          "base_uri": "https://localhost:8080/"
        },
        "id": "FJkGKPiH1C3V",
        "outputId": "c4b90fb0-2fab-429b-eaad-2971e5875cbd"
      },
      "execution_count": null,
      "outputs": [
        {
          "output_type": "execute_result",
          "data": {
            "text/plain": [
              "26.066666666666666"
            ]
          },
          "metadata": {},
          "execution_count": 9
        }
      ]
    },
    {
      "cell_type": "code",
      "source": [
        "round(np.mean(x),2)"
      ],
      "metadata": {
        "colab": {
          "base_uri": "https://localhost:8080/"
        },
        "id": "bxuJgOmN3ELJ",
        "outputId": "c213d8b7-17b3-4296-8950-985a2d3f228f"
      },
      "execution_count": null,
      "outputs": [
        {
          "output_type": "execute_result",
          "data": {
            "text/plain": [
              "26.07"
            ]
          },
          "metadata": {},
          "execution_count": 19
        }
      ]
    },
    {
      "cell_type": "code",
      "source": [
        "media_y = np.mean(y)\n",
        "media_z = np.mean(z)\n",
        "print(media_y)\n",
        "print(media_z)"
      ],
      "metadata": {
        "colab": {
          "base_uri": "https://localhost:8080/"
        },
        "id": "ciCE2CnE1xzV",
        "outputId": "da0211cc-b4a9-455e-dae3-b09cdef0c578"
      },
      "execution_count": null,
      "outputs": [
        {
          "output_type": "stream",
          "name": "stdout",
          "text": [
            "72.46666666666667\n",
            "173.46666666666667\n"
          ]
        }
      ]
    },
    {
      "cell_type": "code",
      "source": [
        "print(\"A média das idades é \",round(media_x,2), \"anos.\")\n",
        "print(\"A média das massas é \",round(media_y,2), \"kg.\")\n",
        "print(\"A média das aturas é \",round(media_z,2), \"cm.\")"
      ],
      "metadata": {
        "colab": {
          "base_uri": "https://localhost:8080/"
        },
        "id": "D4A-ajcd6OEm",
        "outputId": "78f1b5bb-298d-449d-edf6-1fd30df2af68"
      },
      "execution_count": null,
      "outputs": [
        {
          "output_type": "stream",
          "name": "stdout",
          "text": [
            "A média das idades é  26.07 anos.\n",
            "A média das massas é  72.47 kg.\n",
            "A média das aturas é  173.47 cm.\n"
          ]
        }
      ]
    },
    {
      "cell_type": "markdown",
      "source": [
        "#Moda"
      ],
      "metadata": {
        "id": "HCTe5mY14aAl"
      }
    },
    {
      "cell_type": "code",
      "source": [
        "statistics.mode(x)"
      ],
      "metadata": {
        "colab": {
          "base_uri": "https://localhost:8080/"
        },
        "id": "zo_Y0Z-b2249",
        "outputId": "0e6e5048-9ea1-4fc5-cc05-5733ba82587d"
      },
      "execution_count": null,
      "outputs": [
        {
          "output_type": "execute_result",
          "data": {
            "text/plain": [
              "18"
            ]
          },
          "metadata": {},
          "execution_count": 21
        }
      ]
    },
    {
      "cell_type": "code",
      "source": [
        "moda_x = statistics.mode(x)\n",
        "moda_y = statistics.mode(y)\n",
        "moda_z = statistics.mode(z)\n",
        "print(\"Moda das idades:\", moda_x, \"anos.\")\n",
        "print(\"Moda das massas:\",moda_y, \"kg.\")\n",
        "print(\"Moda das alturas:\",moda_z, \"cm.\")"
      ],
      "metadata": {
        "colab": {
          "base_uri": "https://localhost:8080/"
        },
        "id": "CFaROD1b48YK",
        "outputId": "fb60f840-f67c-45d5-a102-84e942e89aba"
      },
      "execution_count": null,
      "outputs": [
        {
          "output_type": "stream",
          "name": "stdout",
          "text": [
            "Moda das idades: 18 anos.\n",
            "Moda das massas: 75 kg.\n",
            "Moda das alturas: 179 cm.\n"
          ]
        }
      ]
    },
    {
      "cell_type": "markdown",
      "source": [
        "#Média quadrática"
      ],
      "metadata": {
        "id": "uhgcvuzM8u0-"
      }
    },
    {
      "cell_type": "markdown",
      "source": [
        "Força bruta"
      ],
      "metadata": {
        "id": "oWCMKhjhXfcs"
      }
    },
    {
      "cell_type": "code",
      "source": [
        "m = 27**2+25**2+23**2+46**2+2*19**2+4*18**2+39**2+20**2+20**2+22**2+59**2\n",
        "m/15"
      ],
      "metadata": {
        "colab": {
          "base_uri": "https://localhost:8080/"
        },
        "id": "gzLvbJ8QXYib",
        "outputId": "9d9a7438-1e2e-4a0c-92e9-91b34d150886"
      },
      "execution_count": null,
      "outputs": [
        {
          "output_type": "execute_result",
          "data": {
            "text/plain": [
              "820.2"
            ]
          },
          "metadata": {},
          "execution_count": 80
        }
      ]
    },
    {
      "cell_type": "markdown",
      "source": [
        "Loop - for (para) in (em)"
      ],
      "metadata": {
        "id": "apjZ4bnDQzkp"
      }
    },
    {
      "cell_type": "code",
      "source": [
        "list_quadx = []\n",
        "for i in x:\n",
        "  x2 = i*i\n",
        "  list_quadx.append(x2)\n",
        "media_quadratica = np.sum(list_quadx)/len(list_quadx)\n",
        "print(media_quadratica)"
      ],
      "metadata": {
        "colab": {
          "base_uri": "https://localhost:8080/"
        },
        "id": "o7eAb50R43pv",
        "outputId": "4cc8dca8-8e92-4e95-ad7e-933513eb44a7"
      },
      "execution_count": null,
      "outputs": [
        {
          "output_type": "stream",
          "name": "stdout",
          "text": [
            "820.2\n"
          ]
        }
      ]
    },
    {
      "cell_type": "markdown",
      "source": [
        "Função"
      ],
      "metadata": {
        "id": "FK0tJNscRKd-"
      }
    },
    {
      "cell_type": "code",
      "source": [
        "def media_quadratica_fun(x):\n",
        "    list_quadx = []\n",
        "    for i in x:\n",
        "      x2 = i*i\n",
        "      list_quadx.append(x2)\n",
        "    media_quadratica = np.sum(list_quadx)/len(list_quadx)\n",
        "    return media_quadratica"
      ],
      "metadata": {
        "id": "98BkzWvuPWxa"
      },
      "execution_count": null,
      "outputs": []
    },
    {
      "cell_type": "code",
      "source": [
        "media_quadratica_fun(x)"
      ],
      "metadata": {
        "colab": {
          "base_uri": "https://localhost:8080/"
        },
        "id": "9jDpEErGP6ce",
        "outputId": "bcddfe6c-665e-4421-c91b-2d864a2c87ad"
      },
      "execution_count": null,
      "outputs": [
        {
          "output_type": "execute_result",
          "data": {
            "text/plain": [
              "820.2"
            ]
          },
          "metadata": {},
          "execution_count": 73
        }
      ]
    },
    {
      "cell_type": "code",
      "source": [
        "media_quadratica_x = media_quadratica_fun(x)\n",
        "media_quadratica_y = media_quadratica_fun(y)\n",
        "media_quadratica_z = media_quadratica_fun(z)\n",
        "print(\"A média quadrática da idade é \",round(media_quadratica_x,2), \"anos.\")\n",
        "print(\"A média quadrática da massa é \",round(media_quadratica_y,2), \"kg.\")\n",
        "print(\"A média quadrática da altura é \",round(media_quadratica_z,2), \"cm.\")"
      ],
      "metadata": {
        "colab": {
          "base_uri": "https://localhost:8080/"
        },
        "id": "gIwiOKxbRcy-",
        "outputId": "e2d849e0-9cd6-454a-96b4-22bc81618ac7"
      },
      "execution_count": null,
      "outputs": [
        {
          "output_type": "stream",
          "name": "stdout",
          "text": [
            "A média quadrática da idade é  820.2 anos.\n",
            "A média quadrática da massa é  5504.87 kg.\n",
            "A média quadrática da altura é  30130.13 cm.\n"
          ]
        }
      ]
    },
    {
      "cell_type": "markdown",
      "source": [
        "#Mediana"
      ],
      "metadata": {
        "id": "zfpKN7DP9QGH"
      }
    },
    {
      "cell_type": "code",
      "source": [
        "statistics.median(x)"
      ],
      "metadata": {
        "colab": {
          "base_uri": "https://localhost:8080/"
        },
        "id": "580wA4x29RUv",
        "outputId": "dc20607a-faf9-4ed0-8d70-23329ec7eb97"
      },
      "execution_count": null,
      "outputs": [
        {
          "output_type": "execute_result",
          "data": {
            "text/plain": [
              "20"
            ]
          },
          "metadata": {},
          "execution_count": 37
        }
      ]
    },
    {
      "cell_type": "code",
      "source": [
        "print(\"A mediana é\", statistics.median(x), \"anos.\")\n",
        "print(\"A mediana é\", statistics.median(y), \"kg.\")\n",
        "print(\"A mediana é\", statistics.median(z), \"cm.\")"
      ],
      "metadata": {
        "colab": {
          "base_uri": "https://localhost:8080/"
        },
        "id": "E624PdIz9XIP",
        "outputId": "81dd62de-3083-4f04-d694-9aeac2bf0cad"
      },
      "execution_count": null,
      "outputs": [
        {
          "output_type": "stream",
          "name": "stdout",
          "text": [
            "A mediana é 20 anos.\n",
            "A mediana é 70 kg.\n",
            "A mediana é 175 cm.\n"
          ]
        }
      ]
    },
    {
      "cell_type": "markdown",
      "source": [
        "##2.3 Parâmetros de dispersão"
      ],
      "metadata": {
        "id": "ovKRNluQ3K1q"
      }
    },
    {
      "cell_type": "markdown",
      "source": [
        "#Amplitude"
      ],
      "metadata": {
        "id": "TpEOklPtb_qq"
      }
    },
    {
      "cell_type": "markdown",
      "source": [
        "Um array é uma estrutura multidimensional que nos permite armazenar dados na memória do nosso computador, de modo que cada item localizado nessa estrutura pode ser encontrado por meio de um esquema de indexação. O NumPy Python denomina essa estrutura como ndarray, como forma de abreviação a array N-dimensional."
      ],
      "metadata": {
        "id": "7_NFEos0cg4o"
      }
    },
    {
      "cell_type": "code",
      "source": [
        "np.array(x).max()"
      ],
      "metadata": {
        "colab": {
          "base_uri": "https://localhost:8080/"
        },
        "id": "FGqEoqwwcBiJ",
        "outputId": "a43fce3d-dc1f-42ba-e0ab-e89b529efe91"
      },
      "execution_count": null,
      "outputs": [
        {
          "output_type": "execute_result",
          "data": {
            "text/plain": [
              "59"
            ]
          },
          "metadata": {},
          "execution_count": 82
        }
      ]
    },
    {
      "cell_type": "code",
      "source": [
        "xmax = np.array(x).max()\n",
        "xmin = np.array(x).min()\n",
        "print(xmin)"
      ],
      "metadata": {
        "colab": {
          "base_uri": "https://localhost:8080/"
        },
        "id": "kuZ1Y5YIcH5w",
        "outputId": "8481e870-7994-4975-e745-44471abed441"
      },
      "execution_count": null,
      "outputs": [
        {
          "output_type": "stream",
          "name": "stdout",
          "text": [
            "18\n"
          ]
        }
      ]
    },
    {
      "cell_type": "code",
      "source": [
        "Amplitude_x = xmax - xmin\n",
        "print(Amplitude_x)"
      ],
      "metadata": {
        "colab": {
          "base_uri": "https://localhost:8080/"
        },
        "id": "O05pieKgcrsG",
        "outputId": "35ac0e16-1c76-4619-dc2d-1fabbec06a1d"
      },
      "execution_count": null,
      "outputs": [
        {
          "output_type": "stream",
          "name": "stdout",
          "text": [
            "41\n"
          ]
        }
      ]
    },
    {
      "cell_type": "code",
      "source": [
        "def amplitude(a):\n",
        "  A = np.array(a).max() - np.array(a).min()\n",
        "  return A"
      ],
      "metadata": {
        "id": "mcaIblx0dG-P"
      },
      "execution_count": null,
      "outputs": []
    },
    {
      "cell_type": "code",
      "source": [
        "print(\"Amplitude é \",amplitude(x), \"anos.\")\n",
        "print(\"Amplitude é \",amplitude(y), \"kg.\")\n",
        "print(\"Amplitude é \",amplitude(z), \"cm.\")"
      ],
      "metadata": {
        "colab": {
          "base_uri": "https://localhost:8080/"
        },
        "id": "igJ68W7OdXk9",
        "outputId": "e230ccb9-1478-427f-c0c7-85c29e599279"
      },
      "execution_count": null,
      "outputs": [
        {
          "output_type": "stream",
          "name": "stdout",
          "text": [
            "Amplitude é  41 anos.\n",
            "Amplitude é  51 kg.\n",
            "Amplitude é  24 cm.\n"
          ]
        }
      ]
    },
    {
      "cell_type": "markdown",
      "source": [
        "#Desvio médio"
      ],
      "metadata": {
        "id": "Eei_m9xQePew"
      }
    },
    {
      "cell_type": "code",
      "source": [
        "def desvio_medio(lista):\n",
        "  Lista1 = []\n",
        "  for i in lista:\n",
        "    item = abs(i-np.mean(lista))\n",
        "    Lista1.append(item)\n",
        "  var = np.sum(Lista1)/len(Lista1)\n",
        "  return var\n"
      ],
      "metadata": {
        "id": "GnAF2e70iwEj"
      },
      "execution_count": null,
      "outputs": []
    },
    {
      "cell_type": "code",
      "source": [
        "desvio_medio(x)"
      ],
      "metadata": {
        "colab": {
          "base_uri": "https://localhost:8080/"
        },
        "id": "uZMo8MjQjywm",
        "outputId": "1f07775b-284c-4c32-f0b6-5d1f028b09fc"
      },
      "execution_count": null,
      "outputs": [
        {
          "output_type": "execute_result",
          "data": {
            "text/plain": [
              "8.897777777777776"
            ]
          },
          "metadata": {},
          "execution_count": 152
        }
      ]
    },
    {
      "cell_type": "code",
      "source": [
        "def desv_med(a):\n",
        "  return sum(abs(np.array(a)-np.array(a).mean())/len(a))\n",
        "\n",
        "print(\"Desvio médio:\",round(desv_med(x),2), \"anos.\")  \n",
        "print(\"Desvio médio:\",round(desv_med(y),2), \"Kg.\")    \n",
        "print(\"Desvio médio:\",round(desv_med(z),2), \"cm.\")  "
      ],
      "metadata": {
        "colab": {
          "base_uri": "https://localhost:8080/"
        },
        "id": "7BVqaWOXdf_4",
        "outputId": "facb401a-8442-467e-9961-f9d7cbfd9ee0"
      },
      "execution_count": null,
      "outputs": [
        {
          "output_type": "stream",
          "name": "stdout",
          "text": [
            "Desvio médio: 8.9 anos.\n",
            "Desvio médio: 13.43 Kg.\n",
            "Desvio médio: 5.17 cm.\n"
          ]
        }
      ]
    },
    {
      "cell_type": "markdown",
      "source": [
        "#Variância"
      ],
      "metadata": {
        "id": "9qABfxAehRFG"
      }
    },
    {
      "cell_type": "code",
      "source": [
        "def variancia(lista):\n",
        "  Lista1 = []\n",
        "  for i in lista:\n",
        "    item = abs(i-np.mean(lista))**2\n",
        "    Lista1.append(item)\n",
        "  var = np.sum(Lista1)/len(Lista1)\n",
        "  return var"
      ],
      "metadata": {
        "id": "MfaYpqlDmR8A"
      },
      "execution_count": 66,
      "outputs": []
    },
    {
      "cell_type": "code",
      "source": [
        "variancia(x)"
      ],
      "metadata": {
        "colab": {
          "base_uri": "https://localhost:8080/"
        },
        "id": "Z6HGtN6-melJ",
        "outputId": "9d87b0c7-1547-4ed5-9201-98d98d325cf6"
      },
      "execution_count": 67,
      "outputs": [
        {
          "output_type": "execute_result",
          "data": {
            "text/plain": [
              "140.7288888888889"
            ]
          },
          "metadata": {},
          "execution_count": 67
        }
      ]
    },
    {
      "cell_type": "code",
      "source": [
        "array_Idade = np.array(x)\n",
        "array_Idade.var()"
      ],
      "metadata": {
        "colab": {
          "base_uri": "https://localhost:8080/"
        },
        "id": "oHYx_FOigIgP",
        "outputId": "7903f8f4-eb0a-4e6f-82ae-dcadae4a56d1"
      },
      "execution_count": 52,
      "outputs": [
        {
          "output_type": "execute_result",
          "data": {
            "text/plain": [
              "140.7288888888889"
            ]
          },
          "metadata": {},
          "execution_count": 52
        }
      ]
    },
    {
      "cell_type": "code",
      "source": [
        "array_Massa = np.array(y)\n",
        "array_Altura = np.array(z)\n",
        "print(\"A variância é:\",round(array_Idade.var(),2), \"anos.\")\n",
        "print(\"A variância é:\",round(array_Massa.var(),2), \"kg.\")\n",
        "print(\"A variância é:\",round(array_Altura.var(),2), \"cm.\")"
      ],
      "metadata": {
        "colab": {
          "base_uri": "https://localhost:8080/"
        },
        "id": "i7LncX5hh2K3",
        "outputId": "b98a70a4-f61b-4066-8fc0-3e133c7d64c5"
      },
      "execution_count": 53,
      "outputs": [
        {
          "output_type": "stream",
          "name": "stdout",
          "text": [
            "A variância é: 140.73 anos.\n",
            "A variância é: 253.45 kg.\n",
            "A variância é: 39.45 cm.\n"
          ]
        }
      ]
    },
    {
      "cell_type": "markdown",
      "source": [
        "#Desvio-padrão"
      ],
      "metadata": {
        "id": "XNIHyNhRmrnk"
      }
    },
    {
      "cell_type": "code",
      "source": [
        "def desvio_padrao(lista):\n",
        "  Lista1 = []\n",
        "  for i in lista:\n",
        "    item = (i-np.mean(lista))**2\n",
        "    Lista1.append(item)\n",
        "  var = np.sum(Lista1)/len(Lista1)\n",
        "  desv_pad = np.sqrt(var)\n",
        "  return desv_pad"
      ],
      "metadata": {
        "id": "yrNFZZPaiYgG"
      },
      "execution_count": null,
      "outputs": []
    },
    {
      "cell_type": "code",
      "source": [
        "desvio_padrao(x)"
      ],
      "metadata": {
        "colab": {
          "base_uri": "https://localhost:8080/"
        },
        "id": "jSaIz_yhnJPv",
        "outputId": "f1829326-0226-45b2-cb9e-efa474294115"
      },
      "execution_count": null,
      "outputs": [
        {
          "output_type": "execute_result",
          "data": {
            "text/plain": [
              "11.862920757085453"
            ]
          },
          "metadata": {},
          "execution_count": 162
        }
      ]
    },
    {
      "cell_type": "code",
      "source": [
        "def desvio_padrao2(lista):\n",
        " Listaquad = []\n",
        " for i in lista:\n",
        "    quadrados = i**2\n",
        "    Listaquad.append(quadrados)\n",
        " med_dos_quadrados = np.sum(Listaquad)/len(Listaquad)\n",
        " desv_pad2 = np.sqrt(med_dos_quadrados - np.mean(lista)**2)\n",
        " return desv_pad2"
      ],
      "metadata": {
        "id": "szYxegSFnkSs"
      },
      "execution_count": null,
      "outputs": []
    },
    {
      "cell_type": "code",
      "source": [
        "desvio_padrao2(x)"
      ],
      "metadata": {
        "colab": {
          "base_uri": "https://localhost:8080/"
        },
        "id": "T96_CXWVp4_D",
        "outputId": "258cc1f6-114c-427b-9797-b25832a4fa51"
      },
      "execution_count": null,
      "outputs": [
        {
          "output_type": "execute_result",
          "data": {
            "text/plain": [
              "11.862920757085455"
            ]
          },
          "metadata": {},
          "execution_count": 168
        }
      ]
    },
    {
      "cell_type": "markdown",
      "source": [
        "Pulo do gato"
      ],
      "metadata": {
        "id": "S_TGLRVtqrdc"
      }
    },
    {
      "cell_type": "code",
      "source": [
        "np.sqrt(variancia(x))"
      ],
      "metadata": {
        "colab": {
          "base_uri": "https://localhost:8080/"
        },
        "id": "RIzaAlrUqm-I",
        "outputId": "2cdb3a9b-cdf5-45dd-d1ea-eadca05ee5ef"
      },
      "execution_count": null,
      "outputs": [
        {
          "output_type": "execute_result",
          "data": {
            "text/plain": [
              "11.862920757085453"
            ]
          },
          "metadata": {},
          "execution_count": 170
        }
      ]
    },
    {
      "cell_type": "markdown",
      "source": [
        "#Largura a meia altura"
      ],
      "metadata": {
        "id": "DcNdiBaZqapL"
      }
    },
    {
      "cell_type": "markdown",
      "source": [
        "Exemplo 1"
      ],
      "metadata": {
        "id": "sjNkrAoE1S9m"
      }
    },
    {
      "cell_type": "code",
      "source": [
        "fig = plt.figure( figsize=(8,6) )\n",
        "plt.hist( x, bins = 48, color='green' )\n",
        "plt.xlim( 16, 64 )\n",
        "plt.xlabel( \"Idade (anos)\")\n",
        "plt.ylabel( \"Frequência\" )\n",
        "plt.title(\"Histograma das idades\")"
      ],
      "metadata": {
        "id": "iFAmEom0qB63",
        "colab": {
          "base_uri": "https://localhost:8080/",
          "height": 422
        },
        "outputId": "b25c4931-f240-4b75-bd12-ddf756cada35"
      },
      "execution_count": 28,
      "outputs": [
        {
          "output_type": "execute_result",
          "data": {
            "text/plain": [
              "Text(0.5, 1.0, 'Histograma das idades')"
            ]
          },
          "metadata": {},
          "execution_count": 28
        },
        {
          "output_type": "display_data",
          "data": {
            "text/plain": [
              "<Figure size 576x432 with 1 Axes>"
            ],
            "image/png": "[encoded data removed]"
          },
          "metadata": {
            "needs_background": "light"
          }
        }
      ]
    },
    {
      "cell_type": "code",
      "source": [
        "x2 = 20\n",
        "x1 = 18\n",
        "L = abs(x2 - x1)\n",
        "print(\"Largura a meia altura é:\",L)"
      ],
      "metadata": {
        "colab": {
          "base_uri": "https://localhost:8080/"
        },
        "id": "9lpjmH9V1Rg9",
        "outputId": "0ed9c1a7-9110-40a0-c073-90f6073577a0"
      },
      "execution_count": 37,
      "outputs": [
        {
          "output_type": "stream",
          "name": "stdout",
          "text": [
            "Largura a meia altura é: 2\n"
          ]
        }
      ]
    },
    {
      "cell_type": "markdown",
      "source": [
        "Exemplo 2"
      ],
      "metadata": {
        "id": "UNVx8-Z81wsj"
      }
    },
    {
      "cell_type": "code",
      "source": [
        "fig = plt.figure( figsize=(8,6) )\n",
        "plt.hist( y, bins = 100, color='orange' )\n",
        "# plt.xlim( 16, 64 )\n",
        "plt.xlabel( \"Massa(kg)\")\n",
        "plt.ylabel( \"Frequência\" )\n",
        "plt.title(\"Histograma das massas\")"
      ],
      "metadata": {
        "colab": {
          "base_uri": "https://localhost:8080/",
          "height": 422
        },
        "id": "rJAU_5pT1bxp",
        "outputId": "96eda20b-88ba-4088-db30-eddecd0abfb0"
      },
      "execution_count": 33,
      "outputs": [
        {
          "output_type": "execute_result",
          "data": {
            "text/plain": [
              "Text(0.5, 1.0, 'Histograma das massas')"
            ]
          },
          "metadata": {},
          "execution_count": 33
        },
        {
          "output_type": "display_data",
          "data": {
            "text/plain": [
              "<Figure size 576x432 with 1 Axes>"
            ],
            "image/png": "[encoded data removed]"
          },
          "metadata": {
            "needs_background": "light"
          }
        }
      ]
    },
    {
      "cell_type": "code",
      "source": [
        "x2 = 105\n",
        "x1 = 54\n",
        "L1 = abs(x2 - x1)\n",
        "print(\"Largura a meia altura é:\",L1)"
      ],
      "metadata": {
        "colab": {
          "base_uri": "https://localhost:8080/"
        },
        "id": "TfQ-1OVx10YH",
        "outputId": "4355150a-a424-4ff2-b6de-75afff9665fc"
      },
      "execution_count": 38,
      "outputs": [
        {
          "output_type": "stream",
          "name": "stdout",
          "text": [
            "Largura a meia altura é: 51\n"
          ]
        }
      ]
    },
    {
      "cell_type": "markdown",
      "source": [
        "##2.4 Parâmetros de correlação"
      ],
      "metadata": {
        "id": "765kn9Bb29Ib"
      }
    },
    {
      "cell_type": "markdown",
      "source": [
        "Gráfico de dispersão"
      ],
      "metadata": {
        "id": "Xu_4aDc7Ehni"
      }
    },
    {
      "cell_type": "code",
      "source": [
        "# plt.style.use(\"default\")\n",
        "fig = plt.figure( figsize=(8,6) )\n",
        "\n",
        "plt.plot( array_Idade, array_Massa, 'o' )\n",
        "plt.xlim( 15, 55 )\n",
        "plt.ylim( 40., 140. )\n",
        "plt.xlabel( \"Idade (anos)\", fontsize=18 )\n",
        "plt.ylabel( \"Massa (kg)\", fontsize=18 )\n",
        "plt.title('Diagrama de Dispersão: Idade (anos) vs. Massa (kg)')"
      ],
      "metadata": {
        "colab": {
          "base_uri": "https://localhost:8080/",
          "height": 592
        },
        "id": "v2iwST2qEklB",
        "outputId": "69452d8e-a88a-4de1-b814-df1fef2d11d3"
      },
      "execution_count": 76,
      "outputs": [
        {
          "output_type": "execute_result",
          "data": {
            "text/plain": [
              "Text(0.5, 1.0, 'Diagrama de Dispersão: Idade (anos) vs. Massa (kg)')"
            ]
          },
          "metadata": {},
          "execution_count": 76
        },
        {
          "output_type": "display_data",
          "data": {
            "text/plain": [
              "<Figure size 800x600 with 1 Axes>"
            ],
            "image/png": "[encoded data removed]"
          },
          "metadata": {}
        }
      ]
    },
    {
      "cell_type": "code",
      "source": [
        "fig = plt.figure( figsize=(8,6) )\n",
        "\n",
        "plt.plot( array_Idade, array_Altura, 'x' )\n",
        "plt.xlim( 15, 55 )\n",
        "plt.ylim( 155, 200 )\n",
        "plt.xlabel( \"Idade (anos)\", fontsize=18 )\n",
        "plt.ylabel( \"Altura (m)\", fontsize=18 )\n",
        "plt.title('Diagrama de Dispersão: Idade (anos) vs. Altura (cm)')"
      ],
      "metadata": {
        "colab": {
          "base_uri": "https://localhost:8080/",
          "height": 592
        },
        "id": "O95TmGRHE1Uf",
        "outputId": "3af1d734-d544-4138-d690-762b842361a5"
      },
      "execution_count": 78,
      "outputs": [
        {
          "output_type": "execute_result",
          "data": {
            "text/plain": [
              "Text(0.5, 1.0, 'Diagrama de Dispersão: Idade (anos) vs. Altura (cm)')"
            ]
          },
          "metadata": {},
          "execution_count": 78
        },
        {
          "output_type": "display_data",
          "data": {
            "text/plain": [
              "<Figure size 800x600 with 1 Axes>"
            ],
            "image/png": "[encoded data removed]"
          },
          "metadata": {}
        }
      ]
    },
    {
      "cell_type": "code",
      "source": [
        "fig = plt.figure( figsize=(8,6) )\n",
        "\n",
        "plt.plot( array_Altura, array_Massa, 'o' )\n",
        "plt.xlim( 155, 200 )\n",
        "plt.ylim( 40., 140. )\n",
        "plt.xlabel( \"Altura (m)\", fontsize=18 )\n",
        "plt.ylabel( \"Massa (kg)\", fontsize=18 )\n",
        "plt.legend(loc='best') #colocando a legenda no melhor lugar\n",
        "plt.title('Diagrama de Dispersão: Massa (kg) vs. Altura (cm)')"
      ],
      "metadata": {
        "colab": {
          "base_uri": "https://localhost:8080/",
          "height": 631
        },
        "id": "oncxxt8uE8Ej",
        "outputId": "5999c126-0487-4026-f5a4-8fbab8009767"
      },
      "execution_count": 82,
      "outputs": [
        {
          "output_type": "stream",
          "name": "stderr",
          "text": [
            "WARNING:matplotlib.legend:No artists with labels found to put in legend.  Note that artists whose label start with an underscore are ignored when legend() is called with no argument.\n"
          ]
        },
        {
          "output_type": "execute_result",
          "data": {
            "text/plain": [
              "Text(0.5, 1.0, 'Diagrama de Dispersão: Massa (kg) vs. Altura (cm)')"
            ]
          },
          "metadata": {},
          "execution_count": 82
        },
        {
          "output_type": "display_data",
          "data": {
            "text/plain": [
              "<Figure size 800x600 with 1 Axes>"
            ],
            "image/png": "[encoded data removed]"
          },
          "metadata": {}
        }
      ]
    },
    {
      "cell_type": "markdown",
      "source": [
        "Covariância"
      ],
      "metadata": {
        "id": "9ruPdpsv_i5a"
      }
    },
    {
      "cell_type": "code",
      "source": [
        "covariancia = np.mean( array_Idade * array_Massa ) - np.mean( array_Idade ) * np.mean( array_Massa )\n",
        "print(\"A covariância entre idade e massa é de\",covariancia)"
      ],
      "metadata": {
        "colab": {
          "base_uri": "https://localhost:8080/"
        },
        "id": "A9qnaLg3A2ig",
        "outputId": "651aa70b-8a9f-4bd2-dff7-19f79af83652"
      },
      "execution_count": 60,
      "outputs": [
        {
          "output_type": "stream",
          "name": "stdout",
          "text": [
            "A covariância entre idade e massa é de 149.7022222222222\n"
          ]
        }
      ]
    },
    {
      "cell_type": "code",
      "source": [
        "covariancia = np.mean( array_Idade * array_Altura ) - np.mean( array_Idade ) * np.mean( array_Altura )\n",
        "print(\"A covariância entre idade e altura é de\",covariancia)"
      ],
      "metadata": {
        "colab": {
          "base_uri": "https://localhost:8080/"
        },
        "id": "gY4aej6wBmqx",
        "outputId": "8c942df6-7dd6-42c2-cdf1-cab6fa584403"
      },
      "execution_count": 61,
      "outputs": [
        {
          "output_type": "stream",
          "name": "stdout",
          "text": [
            "A covariância entre idade e altura é de 6.568888888888978\n"
          ]
        }
      ]
    },
    {
      "cell_type": "code",
      "source": [
        "covariancia = np.mean( array_Massa * array_Altura ) - np.mean( array_Massa ) * np.mean( array_Altura )\n",
        "print(\"A covariância entre massa e altura é de\",covariancia)"
      ],
      "metadata": {
        "colab": {
          "base_uri": "https://localhost:8080/"
        },
        "id": "aJA-yWdmBwVr",
        "outputId": "f0ba70c2-54fa-4bf2-a640-5cf27509f42e"
      },
      "execution_count": 62,
      "outputs": [
        {
          "output_type": "stream",
          "name": "stdout",
          "text": [
            "A covariância entre massa e altura é de 44.18222222222175\n"
          ]
        }
      ]
    },
    {
      "cell_type": "code",
      "source": [
        "np.cov(x,y) #página 29"
      ],
      "metadata": {
        "colab": {
          "base_uri": "https://localhost:8080/"
        },
        "id": "uo1A72OO2tpk",
        "outputId": "a3d6d65d-5fc5-4a4c-d71e-6d8136940e81"
      },
      "execution_count": 63,
      "outputs": [
        {
          "output_type": "execute_result",
          "data": {
            "text/plain": [
              "array([[150.78095238, 160.3952381 ],\n",
              "       [160.3952381 , 271.55238095]])"
            ]
          },
          "metadata": {},
          "execution_count": 63
        }
      ]
    },
    {
      "cell_type": "code",
      "source": [
        "np.cov(x,y, ddof=0) #página 29"
      ],
      "metadata": {
        "colab": {
          "base_uri": "https://localhost:8080/"
        },
        "id": "ZuZ3gwsgBk2h",
        "outputId": "d98d51cd-6be0-4771-f905-e0255aeee0e8"
      },
      "execution_count": 64,
      "outputs": [
        {
          "output_type": "execute_result",
          "data": {
            "text/plain": [
              "array([[140.72888889, 149.70222222],\n",
              "       [149.70222222, 253.44888889]])"
            ]
          },
          "metadata": {},
          "execution_count": 64
        }
      ]
    },
    {
      "cell_type": "code",
      "source": [
        "def covariancia(array1,array2):\n",
        "  cov = np.mean( array1 * array2) - np.mean( array1 ) * np.mean( array2 )\n",
        "  return cov"
      ],
      "metadata": {
        "id": "y-qovYa6DbqJ"
      },
      "execution_count": 70,
      "outputs": []
    },
    {
      "cell_type": "markdown",
      "source": [
        "Coeficiente de correlação linear de Pearson"
      ],
      "metadata": {
        "id": "nxu_a9uHCs-Y"
      }
    },
    {
      "cell_type": "code",
      "source": [
        "r = (covariancia(array_Idade,array_Massa))/(np.sqrt(variancia(x))*np.sqrt(variancia(y)))\n",
        "print(r)"
      ],
      "metadata": {
        "colab": {
          "base_uri": "https://localhost:8080/"
        },
        "id": "13Nx4qN1ATu8",
        "outputId": "9db2c910-b4d0-4680-86c8-5d22058a8487"
      },
      "execution_count": 71,
      "outputs": [
        {
          "output_type": "stream",
          "name": "stdout",
          "text": [
            "0.7926681750480892\n"
          ]
        }
      ]
    },
    {
      "cell_type": "code",
      "source": [
        "r = (covariancia(array_Idade,array_Altura))/(np.sqrt(variancia(x))*np.sqrt(variancia(z)))\n",
        "print(r)"
      ],
      "metadata": {
        "colab": {
          "base_uri": "https://localhost:8080/"
        },
        "id": "PurBj-K6DO87",
        "outputId": "59261a9a-b57d-4754-bc9a-2d4cfb847bb7"
      },
      "execution_count": 72,
      "outputs": [
        {
          "output_type": "stream",
          "name": "stdout",
          "text": [
            "0.0881622974035646\n"
          ]
        }
      ]
    },
    {
      "cell_type": "code",
      "source": [
        "r = (covariancia(array_Massa,array_Altura))/(np.sqrt(variancia(y))*np.sqrt(variancia(z)))\n",
        "print(r)"
      ],
      "metadata": {
        "colab": {
          "base_uri": "https://localhost:8080/"
        },
        "id": "jc4uEkCkEJfs",
        "outputId": "2b24342b-564d-42cd-822e-63271957d772"
      },
      "execution_count": 73,
      "outputs": [
        {
          "output_type": "stream",
          "name": "stdout",
          "text": [
            "0.44186028887117623\n"
          ]
        }
      ]
    },
    {
      "cell_type": "code",
      "source": [],
      "metadata": {
        "id": "MsJLp3nAEPgt"
      },
      "execution_count": null,
      "outputs": []
    }
  ]
}