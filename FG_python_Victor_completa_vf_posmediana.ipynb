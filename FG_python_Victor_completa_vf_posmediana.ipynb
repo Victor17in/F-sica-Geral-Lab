{
  "nbformat": 4,
  "nbformat_minor": 0,
  "metadata": {
    "colab": {
      "provenance": []
    },
    "kernelspec": {
      "name": "python3",
      "display_name": "Python 3"
    },
    "language_info": {
      "name": "python"
    }
  },
  "cells": [
    {
      "cell_type": "markdown",
      "source": [
        "#Bibliotecas"
      ],
      "metadata": {
        "id": "ZBDlHFy0yzMg"
      }
    },
    {
      "cell_type": "code",
      "execution_count": null,
      "metadata": {
        "id": "xCleznciyniA"
      },
      "outputs": [],
      "source": [
        "import numpy as np\n",
        "import pandas as pd\n",
        "import matplotlib as mpl\n",
        "import matplotlib.pyplot as plt\n",
        "import statistics"
      ]
    },
    {
      "cell_type": "markdown",
      "source": [
        "#Dados em listas"
      ],
      "metadata": {
        "id": "3RNYLJjOy5XQ"
      }
    },
    {
      "cell_type": "code",
      "source": [
        "x = [27,25,23,46,19,18,18,39,20,20,18,19,22,18,59] # idade\n",
        "y = [70,54,80,105,63,75,75,93,81,59,56,55,64,58,99] # massa\n",
        "z = [179,165,175,179,170,178,184,177,174,179,165,172,175,160,170] # altura "
      ],
      "metadata": {
        "id": "iCEsTUkny34S"
      },
      "execution_count": null,
      "outputs": []
    },
    {
      "cell_type": "code",
      "source": [
        "len(x)"
      ],
      "metadata": {
        "colab": {
          "base_uri": "https://localhost:8080/"
        },
        "id": "e78cUfAD1MPN",
        "outputId": "949197fc-bb79-4ce3-e5c3-49ce40d5c7af"
      },
      "execution_count": null,
      "outputs": [
        {
          "output_type": "execute_result",
          "data": {
            "text/plain": [
              "15"
            ]
          },
          "metadata": {},
          "execution_count": 3
        }
      ]
    },
    {
      "cell_type": "code",
      "source": [
        "print(len(x))\n",
        "print(len(y))\n",
        "print(len(z))"
      ],
      "metadata": {
        "colab": {
          "base_uri": "https://localhost:8080/"
        },
        "id": "2Ypk8wOa0_pE",
        "outputId": "1b52b83a-870e-441c-ea16-2c39515ec465"
      },
      "execution_count": null,
      "outputs": [
        {
          "output_type": "stream",
          "name": "stdout",
          "text": [
            "15\n",
            "15\n",
            "15\n"
          ]
        }
      ]
    },
    {
      "cell_type": "markdown",
      "source": [
        "##2.1Tabelas e histogramas"
      ],
      "metadata": {
        "id": "57uuJzKVwC9K"
      }
    },
    {
      "cell_type": "code",
      "source": [
        "pd.DataFrame({'Idade':x,'Massa':y,'Altura':z, }) #dicionário em um DataFrame"
      ],
      "metadata": {
        "colab": {
          "base_uri": "https://localhost:8080/",
          "height": 520
        },
        "id": "CfeldQy03t4a",
        "outputId": "5d118a22-68f1-4aad-f89a-f2256bd2a838"
      },
      "execution_count": null,
      "outputs": [
        {
          "output_type": "execute_result",
          "data": {
            "text/plain": [
              "    Idade  Massa  Altura\n",
              "0      27     70     179\n",
              "1      25     54     165\n",
              "2      23     80     175\n",
              "3      46    105     179\n",
              "4      19     63     170\n",
              "5      18     75     178\n",
              "6      18     75     184\n",
              "7      39     93     177\n",
              "8      20     81     174\n",
              "9      20     59     179\n",
              "10     18     56     165\n",
              "11     19     55     172\n",
              "12     22     64     175\n",
              "13     18     58     160\n",
              "14     59     99     170"
            ],
            "text/html": [
              "\n",
              "  <div id=\"df-f4727354-8a13-46d7-bb69-e744fdf88e4f\">\n",
              "    <div class=\"colab-df-container\">\n",
              "      <div>\n",
              "<style scoped>\n",
              "    .dataframe tbody tr th:only-of-type {\n",
              "        vertical-align: middle;\n",
              "    }\n",
              "\n",
              "    .dataframe tbody tr th {\n",
              "        vertical-align: top;\n",
              "    }\n",
              "\n",
              "    .dataframe thead th {\n",
              "        text-align: right;\n",
              "    }\n",
              "</style>\n",
              "<table border=\"1\" class=\"dataframe\">\n",
              "  <thead>\n",
              "    <tr style=\"text-align: right;\">\n",
              "      <th></th>\n",
              "      <th>Idade</th>\n",
              "      <th>Massa</th>\n",
              "      <th>Altura</th>\n",
              "    </tr>\n",
              "  </thead>\n",
              "  <tbody>\n",
              "    <tr>\n",
              "      <th>0</th>\n",
              "      <td>27</td>\n",
              "      <td>70</td>\n",
              "      <td>179</td>\n",
              "    </tr>\n",
              "    <tr>\n",
              "      <th>1</th>\n",
              "      <td>25</td>\n",
              "      <td>54</td>\n",
              "      <td>165</td>\n",
              "    </tr>\n",
              "    <tr>\n",
              "      <th>2</th>\n",
              "      <td>23</td>\n",
              "      <td>80</td>\n",
              "      <td>175</td>\n",
              "    </tr>\n",
              "    <tr>\n",
              "      <th>3</th>\n",
              "      <td>46</td>\n",
              "      <td>105</td>\n",
              "      <td>179</td>\n",
              "    </tr>\n",
              "    <tr>\n",
              "      <th>4</th>\n",
              "      <td>19</td>\n",
              "      <td>63</td>\n",
              "      <td>170</td>\n",
              "    </tr>\n",
              "    <tr>\n",
              "      <th>5</th>\n",
              "      <td>18</td>\n",
              "      <td>75</td>\n",
              "      <td>178</td>\n",
              "    </tr>\n",
              "    <tr>\n",
              "      <th>6</th>\n",
              "      <td>18</td>\n",
              "      <td>75</td>\n",
              "      <td>184</td>\n",
              "    </tr>\n",
              "    <tr>\n",
              "      <th>7</th>\n",
              "      <td>39</td>\n",
              "      <td>93</td>\n",
              "      <td>177</td>\n",
              "    </tr>\n",
              "    <tr>\n",
              "      <th>8</th>\n",
              "      <td>20</td>\n",
              "      <td>81</td>\n",
              "      <td>174</td>\n",
              "    </tr>\n",
              "    <tr>\n",
              "      <th>9</th>\n",
              "      <td>20</td>\n",
              "      <td>59</td>\n",
              "      <td>179</td>\n",
              "    </tr>\n",
              "    <tr>\n",
              "      <th>10</th>\n",
              "      <td>18</td>\n",
              "      <td>56</td>\n",
              "      <td>165</td>\n",
              "    </tr>\n",
              "    <tr>\n",
              "      <th>11</th>\n",
              "      <td>19</td>\n",
              "      <td>55</td>\n",
              "      <td>172</td>\n",
              "    </tr>\n",
              "    <tr>\n",
              "      <th>12</th>\n",
              "      <td>22</td>\n",
              "      <td>64</td>\n",
              "      <td>175</td>\n",
              "    </tr>\n",
              "    <tr>\n",
              "      <th>13</th>\n",
              "      <td>18</td>\n",
              "      <td>58</td>\n",
              "      <td>160</td>\n",
              "    </tr>\n",
              "    <tr>\n",
              "      <th>14</th>\n",
              "      <td>59</td>\n",
              "      <td>99</td>\n",
              "      <td>170</td>\n",
              "    </tr>\n",
              "  </tbody>\n",
              "</table>\n",
              "</div>\n",
              "      <button class=\"colab-df-convert\" onclick=\"convertToInteractive('df-f4727354-8a13-46d7-bb69-e744fdf88e4f')\"\n",
              "              title=\"Convert this dataframe to an interactive table.\"\n",
              "              style=\"display:none;\">\n",
              "        \n",
              "  <svg xmlns=\"http://www.w3.org/2000/svg\" height=\"24px\"viewBox=\"0 0 24 24\"\n",
              "       width=\"24px\">\n",
              "    <path d=\"M0 0h24v24H0V0z\" fill=\"none\"/>\n",
              "    <path d=\"M18.56 5.44l.94 2.06.94-2.06 2.06-.94-2.06-.94-.94-2.06-.94 2.06-2.06.94zm-11 1L8.5 8.5l.94-2.06 2.06-.94-2.06-.94L8.5 2.5l-.94 2.06-2.06.94zm10 10l.94 2.06.94-2.06 2.06-.94-2.06-.94-.94-2.06-.94 2.06-2.06.94z\"/><path d=\"M17.41 7.96l-1.37-1.37c-.4-.4-.92-.59-1.43-.59-.52 0-1.04.2-1.43.59L10.3 9.45l-7.72 7.72c-.78.78-.78 2.05 0 2.83L4 21.41c.39.39.9.59 1.41.59.51 0 1.02-.2 1.41-.59l7.78-7.78 2.81-2.81c.8-.78.8-2.07 0-2.86zM5.41 20L4 18.59l7.72-7.72 1.47 1.35L5.41 20z\"/>\n",
              "  </svg>\n",
              "      </button>\n",
              "      \n",
              "  <style>\n",
              "    .colab-df-container {\n",
              "      display:flex;\n",
              "      flex-wrap:wrap;\n",
              "      gap: 12px;\n",
              "    }\n",
              "\n",
              "    .colab-df-convert {\n",
              "      background-color: #E8F0FE;\n",
              "      border: none;\n",
              "      border-radius: 50%;\n",
              "      cursor: pointer;\n",
              "      display: none;\n",
              "      fill: #1967D2;\n",
              "      height: 32px;\n",
              "      padding: 0 0 0 0;\n",
              "      width: 32px;\n",
              "    }\n",
              "\n",
              "    .colab-df-convert:hover {\n",
              "      background-color: #E2EBFA;\n",
              "      box-shadow: 0px 1px 2px rgba(60, 64, 67, 0.3), 0px 1px 3px 1px rgba(60, 64, 67, 0.15);\n",
              "      fill: #174EA6;\n",
              "    }\n",
              "\n",
              "    [theme=dark] .colab-df-convert {\n",
              "      background-color: #3B4455;\n",
              "      fill: #D2E3FC;\n",
              "    }\n",
              "\n",
              "    [theme=dark] .colab-df-convert:hover {\n",
              "      background-color: #434B5C;\n",
              "      box-shadow: 0px 1px 3px 1px rgba(0, 0, 0, 0.15);\n",
              "      filter: drop-shadow(0px 1px 2px rgba(0, 0, 0, 0.3));\n",
              "      fill: #FFFFFF;\n",
              "    }\n",
              "  </style>\n",
              "\n",
              "      <script>\n",
              "        const buttonEl =\n",
              "          document.querySelector('#df-f4727354-8a13-46d7-bb69-e744fdf88e4f button.colab-df-convert');\n",
              "        buttonEl.style.display =\n",
              "          google.colab.kernel.accessAllowed ? 'block' : 'none';\n",
              "\n",
              "        async function convertToInteractive(key) {\n",
              "          const element = document.querySelector('#df-f4727354-8a13-46d7-bb69-e744fdf88e4f');\n",
              "          const dataTable =\n",
              "            await google.colab.kernel.invokeFunction('convertToInteractive',\n",
              "                                                     [key], {});\n",
              "          if (!dataTable) return;\n",
              "\n",
              "          const docLinkHtml = 'Like what you see? Visit the ' +\n",
              "            '<a target=\"_blank\" href=https://colab.research.google.com/notebooks/data_table.ipynb>data table notebook</a>'\n",
              "            + ' to learn more about interactive tables.';\n",
              "          element.innerHTML = '';\n",
              "          dataTable['output_type'] = 'display_data';\n",
              "          await google.colab.output.renderOutput(dataTable, element);\n",
              "          const docLink = document.createElement('div');\n",
              "          docLink.innerHTML = docLinkHtml;\n",
              "          element.appendChild(docLink);\n",
              "        }\n",
              "      </script>\n",
              "    </div>\n",
              "  </div>\n",
              "  "
            ]
          },
          "metadata": {},
          "execution_count": 5
        }
      ]
    },
    {
      "cell_type": "code",
      "source": [
        "plt.hist( x )\n",
        "plt.xlabel( \"Idade (anos)\")\n",
        "plt.ylabel( \"Frequência\" )"
      ],
      "metadata": {
        "colab": {
          "base_uri": "https://localhost:8080/",
          "height": 296
        },
        "id": "DweRFDWuxZbN",
        "outputId": "5a336e91-5228-4162-ee98-ffe2e9839e77"
      },
      "execution_count": null,
      "outputs": [
        {
          "output_type": "execute_result",
          "data": {
            "text/plain": [
              "Text(0, 0.5, 'Frequência')"
            ]
          },
          "metadata": {},
          "execution_count": 6
        },
        {
          "output_type": "display_data",
          "data": {
            "text/plain": [
              "<Figure size 432x288 with 1 Axes>"
            ],
            "image/png": "[encoded data removed]"
          },
          "metadata": {
            "needs_background": "light"
          }
        }
      ]
    },
    {
      "cell_type": "code",
      "source": [
        "plt.hist( x, bins = 45 )\n",
        "plt.xlabel( \"Idade (anos)\")\n",
        "plt.ylabel( \"Frequência\" )"
      ],
      "metadata": {
        "colab": {
          "base_uri": "https://localhost:8080/",
          "height": 296
        },
        "id": "g4R15isMx_t1",
        "outputId": "951fd695-928b-4b76-8374-84841bf9c9f2"
      },
      "execution_count": null,
      "outputs": [
        {
          "output_type": "execute_result",
          "data": {
            "text/plain": [
              "Text(0, 0.5, 'Frequência')"
            ]
          },
          "metadata": {},
          "execution_count": 7
        },
        {
          "output_type": "display_data",
          "data": {
            "text/plain": [
              "<Figure size 432x288 with 1 Axes>"
            ],
            "image/png": "[encoded data removed]"
          },
          "metadata": {
            "needs_background": "light"
          }
        }
      ]
    },
    {
      "cell_type": "code",
      "source": [
        "plt.hist( x, bins = 48 )\n",
        "plt.xlim( 16, 64 )\n",
        "plt.xlabel( \"Idade (anos)\")\n",
        "plt.ylabel( \"Frequência\" )"
      ],
      "metadata": {
        "colab": {
          "base_uri": "https://localhost:8080/",
          "height": 296
        },
        "id": "VHXpGr4oyZF7",
        "outputId": "c7a6214b-a20c-41e6-af82-449f4a0416dc"
      },
      "execution_count": null,
      "outputs": [
        {
          "output_type": "execute_result",
          "data": {
            "text/plain": [
              "Text(0, 0.5, 'Frequência')"
            ]
          },
          "metadata": {},
          "execution_count": 8
        },
        {
          "output_type": "display_data",
          "data": {
            "text/plain": [
              "<Figure size 432x288 with 1 Axes>"
            ],
            "image/png": "[encoded data removed]"
          },
          "metadata": {
            "needs_background": "light"
          }
        }
      ]
    },
    {
      "cell_type": "code",
      "source": [
        "plt.hist( x, bins = 48, color='green' )\n",
        "plt.xlim( 16, 64 )\n",
        "plt.xlabel( \"Idade (anos)\")\n",
        "plt.ylabel( \"Frequência\" )"
      ],
      "metadata": {
        "colab": {
          "base_uri": "https://localhost:8080/",
          "height": 296
        },
        "id": "LsZzOTlmx436",
        "outputId": "5c60aec9-2505-405f-9d35-a4ea5c4136db"
      },
      "execution_count": null,
      "outputs": [
        {
          "output_type": "execute_result",
          "data": {
            "text/plain": [
              "Text(0, 0.5, 'Frequência')"
            ]
          },
          "metadata": {},
          "execution_count": 9
        },
        {
          "output_type": "display_data",
          "data": {
            "text/plain": [
              "<Figure size 432x288 with 1 Axes>"
            ],
            "image/png": "[encoded data removed]"
          },
          "metadata": {
            "needs_background": "light"
          }
        }
      ]
    },
    {
      "cell_type": "code",
      "source": [
        "fig = plt.figure( figsize=(8,6) )\n",
        "plt.hist( x, bins = 48, color='green' )\n",
        "plt.xlim( 16, 64 )\n",
        "plt.xlabel( \"Idade (anos)\")\n",
        "plt.ylabel( \"Frequência\" )\n",
        "plt.title(\"Histograma das idades\")"
      ],
      "metadata": {
        "colab": {
          "base_uri": "https://localhost:8080/",
          "height": 421
        },
        "id": "Zx1qqf2JwUhk",
        "outputId": "d73cd920-b406-4ffd-8d8b-00129a03336e"
      },
      "execution_count": null,
      "outputs": [
        {
          "output_type": "execute_result",
          "data": {
            "text/plain": [
              "Text(0.5, 1.0, 'Histograma das idades')"
            ]
          },
          "metadata": {},
          "execution_count": 10
        },
        {
          "output_type": "display_data",
          "data": {
            "text/plain": [
              "<Figure size 576x432 with 1 Axes>"
            ],
            "image/png": "[encoded data removed]"
          },
          "metadata": {
            "needs_background": "light"
          }
        }
      ]
    },
    {
      "cell_type": "code",
      "source": [
        "fig = plt.figure( figsize=(8,6) )\n",
        "plt.hist( y, bins = 100, color='orange' )\n",
        "# plt.xlim( 16, 64 )\n",
        "plt.xlabel( \"Massa(kg)\")\n",
        "plt.ylabel( \"Frequência\" )\n",
        "plt.title(\"Histograma das massas\")"
      ],
      "metadata": {
        "colab": {
          "base_uri": "https://localhost:8080/",
          "height": 421
        },
        "id": "a7zw7hqwzqlV",
        "outputId": "de2a971d-002c-4881-87e5-389ae7c0841c"
      },
      "execution_count": null,
      "outputs": [
        {
          "output_type": "execute_result",
          "data": {
            "text/plain": [
              "Text(0.5, 1.0, 'Histograma das massas')"
            ]
          },
          "metadata": {},
          "execution_count": 11
        },
        {
          "output_type": "display_data",
          "data": {
            "text/plain": [
              "<Figure size 576x432 with 1 Axes>"
            ],
            "image/png": "[encoded data removed]"
          },
          "metadata": {
            "needs_background": "light"
          }
        }
      ]
    },
    {
      "cell_type": "code",
      "source": [
        "fig = plt.figure( figsize=(8,6) )\n",
        "plt.hist( z, bins = 60, color='red' )\n",
        "# plt.xlim( 16, 64 )\n",
        "plt.xlabel( \"Altura(cm)\")\n",
        "plt.ylabel( \"Frequência\" )\n",
        "plt.title(\"Histograma das massas\")"
      ],
      "metadata": {
        "colab": {
          "base_uri": "https://localhost:8080/",
          "height": 421
        },
        "id": "U0QtGFSw0RQz",
        "outputId": "585252b5-1ba7-42cc-f3f3-920f366aa5e2"
      },
      "execution_count": null,
      "outputs": [
        {
          "output_type": "execute_result",
          "data": {
            "text/plain": [
              "Text(0.5, 1.0, 'Histograma das massas')"
            ]
          },
          "metadata": {},
          "execution_count": 12
        },
        {
          "output_type": "display_data",
          "data": {
            "text/plain": [
              "<Figure size 576x432 with 1 Axes>"
            ],
            "image/png": "[encoded data removed]"
          },
          "metadata": {
            "needs_background": "light"
          }
        }
      ]
    },
    {
      "cell_type": "markdown",
      "source": [
        "## 2.2 Parâmetros de posição"
      ],
      "metadata": {
        "id": "px92Smff3Rky"
      }
    },
    {
      "cell_type": "markdown",
      "source": [
        "#Média"
      ],
      "metadata": {
        "id": "9v-tg98310mW"
      }
    },
    {
      "cell_type": "code",
      "source": [
        "np.sum(x)"
      ],
      "metadata": {
        "colab": {
          "base_uri": "https://localhost:8080/"
        },
        "id": "9vJB22K02A_P",
        "outputId": "3851d645-c700-4f50-c62a-37f54c363c24"
      },
      "execution_count": null,
      "outputs": [
        {
          "output_type": "execute_result",
          "data": {
            "text/plain": [
              "391"
            ]
          },
          "metadata": {},
          "execution_count": 13
        }
      ]
    },
    {
      "cell_type": "code",
      "source": [
        "media_x = np.sum(x)/len(x)\n",
        "print(media_x)"
      ],
      "metadata": {
        "colab": {
          "base_uri": "https://localhost:8080/"
        },
        "id": "eVBMJVF02J9J",
        "outputId": "250be3cd-fcc6-4644-8e25-054975e29147"
      },
      "execution_count": null,
      "outputs": [
        {
          "output_type": "stream",
          "name": "stdout",
          "text": [
            "26.066666666666666\n"
          ]
        }
      ]
    },
    {
      "cell_type": "code",
      "source": [
        "np.mean(x)"
      ],
      "metadata": {
        "colab": {
          "base_uri": "https://localhost:8080/"
        },
        "id": "FJkGKPiH1C3V",
        "outputId": "9a3e0085-395f-48df-b25c-4974266492d3"
      },
      "execution_count": null,
      "outputs": [
        {
          "output_type": "execute_result",
          "data": {
            "text/plain": [
              "26.066666666666666"
            ]
          },
          "metadata": {},
          "execution_count": 15
        }
      ]
    },
    {
      "cell_type": "code",
      "source": [
        "round(np.mean(x),2)"
      ],
      "metadata": {
        "colab": {
          "base_uri": "https://localhost:8080/"
        },
        "id": "bxuJgOmN3ELJ",
        "outputId": "758279f2-39a8-4687-c7ee-592ba2ad104c"
      },
      "execution_count": null,
      "outputs": [
        {
          "output_type": "execute_result",
          "data": {
            "text/plain": [
              "26.07"
            ]
          },
          "metadata": {},
          "execution_count": 16
        }
      ]
    },
    {
      "cell_type": "code",
      "source": [
        "media_y = np.mean(y)\n",
        "media_z = np.mean(z)\n",
        "print(media_y)\n",
        "print(media_z)"
      ],
      "metadata": {
        "colab": {
          "base_uri": "https://localhost:8080/"
        },
        "id": "ciCE2CnE1xzV",
        "outputId": "d5c358af-190b-4e34-cfd6-3468c53cc9b3"
      },
      "execution_count": null,
      "outputs": [
        {
          "output_type": "stream",
          "name": "stdout",
          "text": [
            "72.46666666666667\n",
            "173.46666666666667\n"
          ]
        }
      ]
    },
    {
      "cell_type": "code",
      "source": [
        "print(\"A média das idades é \",round(media_x,2), \"anos.\")\n",
        "print(\"A média das massas é \",round(media_y,2), \"kg.\")\n",
        "print(\"A média das aturas é \",round(media_z,2), \"cm.\")"
      ],
      "metadata": {
        "colab": {
          "base_uri": "https://localhost:8080/"
        },
        "id": "D4A-ajcd6OEm",
        "outputId": "46c07782-af47-49ba-9a3d-f74c73f6aaba"
      },
      "execution_count": null,
      "outputs": [
        {
          "output_type": "stream",
          "name": "stdout",
          "text": [
            "A média das idades é  26.07 anos.\n",
            "A média das massas é  72.47 kg.\n",
            "A média das aturas é  173.47 cm.\n"
          ]
        }
      ]
    },
    {
      "cell_type": "markdown",
      "source": [
        "#Moda"
      ],
      "metadata": {
        "id": "HCTe5mY14aAl"
      }
    },
    {
      "cell_type": "code",
      "source": [
        "statistics.mode(x)"
      ],
      "metadata": {
        "colab": {
          "base_uri": "https://localhost:8080/"
        },
        "id": "zo_Y0Z-b2249",
        "outputId": "57081869-d666-4886-aa08-e53872a903b7"
      },
      "execution_count": null,
      "outputs": [
        {
          "output_type": "execute_result",
          "data": {
            "text/plain": [
              "18"
            ]
          },
          "metadata": {},
          "execution_count": 19
        }
      ]
    },
    {
      "cell_type": "code",
      "source": [
        "moda_x = statistics.mode(x)\n",
        "moda_y = statistics.mode(y)\n",
        "moda_z = statistics.mode(z)\n",
        "print(\"Moda das idades:\", moda_x, \"anos.\")\n",
        "print(\"Moda das massas:\",moda_y, \"kg.\")\n",
        "print(\"Moda das alturas:\",moda_z, \"cm.\")"
      ],
      "metadata": {
        "colab": {
          "base_uri": "https://localhost:8080/"
        },
        "id": "CFaROD1b48YK",
        "outputId": "92fccbe1-319f-4caf-c94f-e0bc0290542b"
      },
      "execution_count": null,
      "outputs": [
        {
          "output_type": "stream",
          "name": "stdout",
          "text": [
            "Moda das idades: 18 anos.\n",
            "Moda das massas: 75 kg.\n",
            "Moda das alturas: 179 cm.\n"
          ]
        }
      ]
    },
    {
      "cell_type": "markdown",
      "source": [
        "#Média quadrática"
      ],
      "metadata": {
        "id": "uhgcvuzM8u0-"
      }
    },
    {
      "cell_type": "markdown",
      "source": [
        "Força bruta"
      ],
      "metadata": {
        "id": "oWCMKhjhXfcs"
      }
    },
    {
      "cell_type": "code",
      "source": [
        "m = 27**2+25**2+23**2+46**2+2*19**2+4*18**2+39**2+20**2+20**2+22**2+59**2\n",
        "m/15"
      ],
      "metadata": {
        "colab": {
          "base_uri": "https://localhost:8080/"
        },
        "id": "gzLvbJ8QXYib",
        "outputId": "73862279-ae5a-47ee-96ce-b0eb9a454798"
      },
      "execution_count": null,
      "outputs": [
        {
          "output_type": "execute_result",
          "data": {
            "text/plain": [
              "820.2"
            ]
          },
          "metadata": {},
          "execution_count": 21
        }
      ]
    },
    {
      "cell_type": "markdown",
      "source": [
        "Loop - for (para) in (em)"
      ],
      "metadata": {
        "id": "apjZ4bnDQzkp"
      }
    },
    {
      "cell_type": "code",
      "source": [
        "list_quadx = []\n",
        "for i in x:\n",
        "  x2 = i*i\n",
        "  list_quadx.append(x2)\n",
        "media_quadratica = np.sum(list_quadx)/len(list_quadx)\n",
        "print(media_quadratica)"
      ],
      "metadata": {
        "colab": {
          "base_uri": "https://localhost:8080/"
        },
        "id": "o7eAb50R43pv",
        "outputId": "a54ec0d3-87b1-44b0-fefa-af01aadf363e"
      },
      "execution_count": null,
      "outputs": [
        {
          "output_type": "stream",
          "name": "stdout",
          "text": [
            "820.2\n"
          ]
        }
      ]
    },
    {
      "cell_type": "markdown",
      "source": [
        "Função"
      ],
      "metadata": {
        "id": "FK0tJNscRKd-"
      }
    },
    {
      "cell_type": "code",
      "source": [
        "def media_quadratica_fun(x):\n",
        "    list_quadx = []\n",
        "    for i in x:\n",
        "      x2 = i*i\n",
        "      list_quadx.append(x2)\n",
        "    media_quadratica = np.sum(list_quadx)/len(list_quadx)\n",
        "    return media_quadratica"
      ],
      "metadata": {
        "id": "98BkzWvuPWxa"
      },
      "execution_count": null,
      "outputs": []
    },
    {
      "cell_type": "code",
      "source": [
        "media_quadratica_fun(x)"
      ],
      "metadata": {
        "colab": {
          "base_uri": "https://localhost:8080/"
        },
        "id": "9jDpEErGP6ce",
        "outputId": "aaa47638-9ce5-4a83-da2a-a2a5db928bf6"
      },
      "execution_count": null,
      "outputs": [
        {
          "output_type": "execute_result",
          "data": {
            "text/plain": [
              "820.2"
            ]
          },
          "metadata": {},
          "execution_count": 24
        }
      ]
    },
    {
      "cell_type": "code",
      "source": [
        "media_quadratica_x = media_quadratica_fun(x)\n",
        "media_quadratica_y = media_quadratica_fun(y)\n",
        "media_quadratica_z = media_quadratica_fun(z)\n",
        "print(\"A média quadrática da idade é \",round(media_quadratica_x,2), \"anos.\")\n",
        "print(\"A média quadrática da massa é \",round(media_quadratica_y,2), \"kg.\")\n",
        "print(\"A média quadrática da altura é \",round(media_quadratica_z,2), \"cm.\")"
      ],
      "metadata": {
        "colab": {
          "base_uri": "https://localhost:8080/"
        },
        "id": "gIwiOKxbRcy-",
        "outputId": "8b5e4636-adb0-4804-f947-b5d86ac3d338"
      },
      "execution_count": null,
      "outputs": [
        {
          "output_type": "stream",
          "name": "stdout",
          "text": [
            "A média quadrática da idade é  820.2 anos.\n",
            "A média quadrática da massa é  5504.87 kg.\n",
            "A média quadrática da altura é  30130.13 cm.\n"
          ]
        }
      ]
    },
    {
      "cell_type": "markdown",
      "source": [
        "Raiz da média quadrática"
      ],
      "metadata": {
        "id": "IYkw_QJ0Foy_"
      }
    },
    {
      "cell_type": "code",
      "source": [
        "def raiz_media_quadratica_fun(x):\n",
        "    list_quadx = []\n",
        "    for i in x:\n",
        "      x2 = i*i\n",
        "      list_quadx.append(x2)\n",
        "    r_media_quadratica = np.sqrt(np.sum(list_quadx)/len(list_quadx))\n",
        "    return r_media_quadratica"
      ],
      "metadata": {
        "id": "zhOYwjYSFju1"
      },
      "execution_count": null,
      "outputs": []
    },
    {
      "cell_type": "code",
      "source": [
        "r_media_quadratica_x = raiz_media_quadratica_fun(x)\n",
        "r_media_quadratica_y = raiz_media_quadratica_fun(y)\n",
        "r_media_quadratica_z = raiz_media_quadratica_fun(z)\n",
        "print(\"A raiz da média quadrática da idade é \",round(r_media_quadratica_x,2), \"anos.\")\n",
        "print(\"A raiz da média quadrática da massa é \",round(r_media_quadratica_y,2), \"kg.\")\n",
        "print(\"A raiz da média quadrática da altura é \",round(r_media_quadratica_z,2), \"cm.\")"
      ],
      "metadata": {
        "colab": {
          "base_uri": "https://localhost:8080/"
        },
        "id": "SDijeYjdF9wL",
        "outputId": "d751b2d7-9647-468c-d269-e811f2b52aa0"
      },
      "execution_count": null,
      "outputs": [
        {
          "output_type": "stream",
          "name": "stdout",
          "text": [
            "A raiz da média quadrática da idade é  28.64 anos.\n",
            "A raiz da média quadrática da massa é  74.19 kg.\n",
            "A raiz da média quadrática da altura é  173.58 cm.\n"
          ]
        }
      ]
    },
    {
      "cell_type": "markdown",
      "source": [
        "#Mediana"
      ],
      "metadata": {
        "id": "zfpKN7DP9QGH"
      }
    },
    {
      "cell_type": "code",
      "source": [
        "x"
      ],
      "metadata": {
        "colab": {
          "base_uri": "https://localhost:8080/"
        },
        "id": "HKqPDLcY-7ej",
        "outputId": "b887066f-0f40-4b7e-c08b-9293c2b50341"
      },
      "execution_count": null,
      "outputs": [
        {
          "output_type": "execute_result",
          "data": {
            "text/plain": [
              "[27, 25, 23, 46, 19, 18, 18, 39, 20, 20, 18, 19, 22, 18, 59]"
            ]
          },
          "metadata": {},
          "execution_count": 28
        }
      ]
    },
    {
      "cell_type": "code",
      "source": [
        "# x.sort()"
      ],
      "metadata": {
        "id": "srpNbVww-9PI"
      },
      "execution_count": null,
      "outputs": []
    },
    {
      "cell_type": "code",
      "source": [
        "x"
      ],
      "metadata": {
        "colab": {
          "base_uri": "https://localhost:8080/"
        },
        "id": "QEuXKcOt_Qx7",
        "outputId": "2712de28-87dd-4d7c-fa8e-7010458f2b99"
      },
      "execution_count": null,
      "outputs": [
        {
          "output_type": "execute_result",
          "data": {
            "text/plain": [
              "[27, 25, 23, 46, 19, 18, 18, 39, 20, 20, 18, 19, 22, 18, 59]"
            ]
          },
          "metadata": {},
          "execution_count": 30
        }
      ]
    },
    {
      "cell_type": "code",
      "source": [
        "# if len(x)//2 == 0:\n",
        "#   print(\"A lista é par\")\n",
        "#   l = (len(x))/2\n",
        "#   x_med = x[int(l)]\n",
        "#   print(\"A mediana é em:\",x_med)\n",
        "# else:\n",
        "#   print(\"A lista é ímpar\")\n",
        "#   l =(len(x)-1)/2\n",
        "#   print(l)\n",
        "#   x_med = x[int(l)] \n",
        "#   print(\"A mediana é em:\",x_med)"
      ],
      "metadata": {
        "id": "Et4yGcEo_XlW"
      },
      "execution_count": null,
      "outputs": []
    },
    {
      "cell_type": "code",
      "source": [
        "# def mediana(lista):\n",
        "#   lista.sort()\n",
        "#   if len(lista)//2 == 0:\n",
        "#     print(\"A lista é par\")\n",
        "#     l = (len(lista))/2\n",
        "#     y_med = lista[int(l)]\n",
        "#     print(\"A mediana é em:\",y_med)\n",
        "#   else:\n",
        "#     print(\"A lista é ímpar\")\n",
        "#     l =(len(lista)-1)/2\n",
        "#     print(l)\n",
        "#     y_med = lista[int(l)] \n",
        "#     print(\"A mediana é em:\",y_med)\n",
        "#   return y_med"
      ],
      "metadata": {
        "id": "ZuwewVFBDLtH"
      },
      "execution_count": null,
      "outputs": []
    },
    {
      "cell_type": "code",
      "source": [
        "# mediana(y)"
      ],
      "metadata": {
        "id": "-6gD7jdTD3lV"
      },
      "execution_count": null,
      "outputs": []
    },
    {
      "cell_type": "code",
      "source": [
        "# mediana(z)"
      ],
      "metadata": {
        "id": "qSuLugGBDoFL"
      },
      "execution_count": null,
      "outputs": []
    },
    {
      "cell_type": "code",
      "source": [
        "statistics.median(x)"
      ],
      "metadata": {
        "colab": {
          "base_uri": "https://localhost:8080/"
        },
        "id": "580wA4x29RUv",
        "outputId": "5d211a9f-8d70-4149-a592-6d51460a6440"
      },
      "execution_count": null,
      "outputs": [
        {
          "output_type": "execute_result",
          "data": {
            "text/plain": [
              "20"
            ]
          },
          "metadata": {},
          "execution_count": 35
        }
      ]
    },
    {
      "cell_type": "code",
      "source": [
        "print(\"A mediana é\", statistics.median(x), \"anos.\")\n",
        "print(\"A mediana é\", statistics.median(y), \"kg.\")\n",
        "print(\"A mediana é\", statistics.median(z), \"cm.\")"
      ],
      "metadata": {
        "colab": {
          "base_uri": "https://localhost:8080/"
        },
        "id": "E624PdIz9XIP",
        "outputId": "e023dfe9-530e-431b-9626-340d58828507"
      },
      "execution_count": null,
      "outputs": [
        {
          "output_type": "stream",
          "name": "stdout",
          "text": [
            "A mediana é 20 anos.\n",
            "A mediana é 70 kg.\n",
            "A mediana é 175 cm.\n"
          ]
        }
      ]
    },
    {
      "cell_type": "markdown",
      "source": [
        "##2.3 Parâmetros de dispersão"
      ],
      "metadata": {
        "id": "ovKRNluQ3K1q"
      }
    },
    {
      "cell_type": "markdown",
      "source": [
        "#Amplitude"
      ],
      "metadata": {
        "id": "TpEOklPtb_qq"
      }
    },
    {
      "cell_type": "markdown",
      "source": [
        "Um array é uma estrutura multidimensional que nos permite armazenar dados na memória do nosso computador, de modo que cada item localizado nessa estrutura pode ser encontrado por meio de um esquema de indexação. O NumPy Python denomina essa estrutura como ndarray, como forma de abreviação a array N-dimensional."
      ],
      "metadata": {
        "id": "7_NFEos0cg4o"
      }
    },
    {
      "cell_type": "code",
      "source": [
        "np.array(x).max()"
      ],
      "metadata": {
        "colab": {
          "base_uri": "https://localhost:8080/"
        },
        "id": "FGqEoqwwcBiJ",
        "outputId": "ceefaf38-ca89-4f63-ab52-08d2371905b3"
      },
      "execution_count": null,
      "outputs": [
        {
          "output_type": "execute_result",
          "data": {
            "text/plain": [
              "59"
            ]
          },
          "metadata": {},
          "execution_count": 37
        }
      ]
    },
    {
      "cell_type": "code",
      "source": [
        "xmax = np.array(x).max()\n",
        "xmin = np.array(x).min()\n",
        "print(xmin)"
      ],
      "metadata": {
        "colab": {
          "base_uri": "https://localhost:8080/"
        },
        "id": "kuZ1Y5YIcH5w",
        "outputId": "882b0d06-901d-4d53-d557-d1cc5fd84bba"
      },
      "execution_count": null,
      "outputs": [
        {
          "output_type": "stream",
          "name": "stdout",
          "text": [
            "18\n"
          ]
        }
      ]
    },
    {
      "cell_type": "code",
      "source": [
        "Amplitude_x = xmax - xmin\n",
        "print(Amplitude_x)"
      ],
      "metadata": {
        "colab": {
          "base_uri": "https://localhost:8080/"
        },
        "id": "O05pieKgcrsG",
        "outputId": "7154420d-888b-4989-ff60-3f747eda6b94"
      },
      "execution_count": null,
      "outputs": [
        {
          "output_type": "stream",
          "name": "stdout",
          "text": [
            "41\n"
          ]
        }
      ]
    },
    {
      "cell_type": "code",
      "source": [
        "def amplitude(a):\n",
        "  A = np.array(a).max() - np.array(a).min()\n",
        "  return A"
      ],
      "metadata": {
        "id": "mcaIblx0dG-P"
      },
      "execution_count": null,
      "outputs": []
    },
    {
      "cell_type": "code",
      "source": [
        "print(\"Amplitude é \",amplitude(x), \"anos.\")\n",
        "print(\"Amplitude é \",amplitude(y), \"kg.\")\n",
        "print(\"Amplitude é \",amplitude(z), \"cm.\")"
      ],
      "metadata": {
        "colab": {
          "base_uri": "https://localhost:8080/"
        },
        "id": "igJ68W7OdXk9",
        "outputId": "cd4434fa-7f61-4cd0-daf8-de3cbdc9e44f"
      },
      "execution_count": null,
      "outputs": [
        {
          "output_type": "stream",
          "name": "stdout",
          "text": [
            "Amplitude é  41 anos.\n",
            "Amplitude é  51 kg.\n",
            "Amplitude é  24 cm.\n"
          ]
        }
      ]
    },
    {
      "cell_type": "markdown",
      "source": [
        "#Desvio médio"
      ],
      "metadata": {
        "id": "Eei_m9xQePew"
      }
    },
    {
      "cell_type": "code",
      "source": [
        "def desvio_medio(lista):\n",
        "  Lista1 = []\n",
        "  for i in lista:\n",
        "    item = abs(i-np.mean(lista))\n",
        "    Lista1.append(item)\n",
        "  var = np.sum(Lista1)/len(Lista1)\n",
        "  return var\n"
      ],
      "metadata": {
        "id": "GnAF2e70iwEj"
      },
      "execution_count": null,
      "outputs": []
    },
    {
      "cell_type": "code",
      "source": [
        "desvio_medio(x)"
      ],
      "metadata": {
        "colab": {
          "base_uri": "https://localhost:8080/"
        },
        "id": "uZMo8MjQjywm",
        "outputId": "a5d2c268-f0f4-46a0-ea62-8edc8f65ae1b"
      },
      "execution_count": null,
      "outputs": [
        {
          "output_type": "execute_result",
          "data": {
            "text/plain": [
              "8.897777777777776"
            ]
          },
          "metadata": {},
          "execution_count": 43
        }
      ]
    },
    {
      "cell_type": "code",
      "source": [
        "def desv_med(a):\n",
        "  return sum(abs(np.array(a)-np.array(a).mean())/len(a))\n",
        "\n",
        "print(\"Desvio médio:\",round(desv_med(x),2), \"anos.\")  \n",
        "print(\"Desvio médio:\",round(desv_med(y),2), \"Kg.\")    \n",
        "print(\"Desvio médio:\",round(desv_med(z),2), \"cm.\")  "
      ],
      "metadata": {
        "colab": {
          "base_uri": "https://localhost:8080/"
        },
        "id": "7BVqaWOXdf_4",
        "outputId": "1e9e4cc1-afd4-4790-f8d8-5b0d44a12f30"
      },
      "execution_count": null,
      "outputs": [
        {
          "output_type": "stream",
          "name": "stdout",
          "text": [
            "Desvio médio: 8.9 anos.\n",
            "Desvio médio: 13.43 Kg.\n",
            "Desvio médio: 5.17 cm.\n"
          ]
        }
      ]
    },
    {
      "cell_type": "markdown",
      "source": [
        "#Variância"
      ],
      "metadata": {
        "id": "9qABfxAehRFG"
      }
    },
    {
      "cell_type": "code",
      "source": [
        "def variancia(lista):\n",
        "  Lista1 = []\n",
        "  for i in lista:\n",
        "    item = abs(i-np.mean(lista))**2\n",
        "    Lista1.append(item)\n",
        "  var = np.sum(Lista1)/len(Lista1)\n",
        "  return var"
      ],
      "metadata": {
        "id": "MfaYpqlDmR8A"
      },
      "execution_count": null,
      "outputs": []
    },
    {
      "cell_type": "code",
      "source": [
        "variancia(x)"
      ],
      "metadata": {
        "colab": {
          "base_uri": "https://localhost:8080/"
        },
        "id": "Z6HGtN6-melJ",
        "outputId": "8f26e714-79a4-4fe7-f27c-84e426cf4e99"
      },
      "execution_count": null,
      "outputs": [
        {
          "output_type": "execute_result",
          "data": {
            "text/plain": [
              "140.7288888888889"
            ]
          },
          "metadata": {},
          "execution_count": 46
        }
      ]
    },
    {
      "cell_type": "code",
      "source": [
        "array_Idade = np.array(x)\n",
        "array_Idade.var()"
      ],
      "metadata": {
        "colab": {
          "base_uri": "https://localhost:8080/"
        },
        "id": "oHYx_FOigIgP",
        "outputId": "a31bc338-bdfd-40a2-cb8d-09d259da8d0b"
      },
      "execution_count": null,
      "outputs": [
        {
          "output_type": "execute_result",
          "data": {
            "text/plain": [
              "140.7288888888889"
            ]
          },
          "metadata": {},
          "execution_count": 47
        }
      ]
    },
    {
      "cell_type": "code",
      "source": [
        "array_Massa = np.array(y)\n",
        "array_Altura = np.array(z)\n",
        "print(\"A variância é:\",round(array_Idade.var(),2), \"anos.\")\n",
        "print(\"A variância é:\",round(array_Massa.var(),2), \"kg.\")\n",
        "print(\"A variância é:\",round(array_Altura.var(),2), \"cm.\")"
      ],
      "metadata": {
        "colab": {
          "base_uri": "https://localhost:8080/"
        },
        "id": "i7LncX5hh2K3",
        "outputId": "f214e00b-feee-43f1-b69f-d2ebae79002f"
      },
      "execution_count": null,
      "outputs": [
        {
          "output_type": "stream",
          "name": "stdout",
          "text": [
            "A variância é: 140.73 anos.\n",
            "A variância é: 253.45 kg.\n",
            "A variância é: 39.45 cm.\n"
          ]
        }
      ]
    },
    {
      "cell_type": "markdown",
      "source": [
        "#Desvio-padrão"
      ],
      "metadata": {
        "id": "XNIHyNhRmrnk"
      }
    },
    {
      "cell_type": "code",
      "source": [
        "def desvio_padrao(lista):\n",
        "  Lista1 = []\n",
        "  for i in lista:\n",
        "    item = (i-np.mean(lista))**2\n",
        "    Lista1.append(item)\n",
        "  var = np.sum(Lista1)/len(Lista1)\n",
        "  desv_pad = np.sqrt(var)\n",
        "  return desv_pad"
      ],
      "metadata": {
        "id": "yrNFZZPaiYgG"
      },
      "execution_count": null,
      "outputs": []
    },
    {
      "cell_type": "code",
      "source": [
        "desvio_padrao(x)"
      ],
      "metadata": {
        "colab": {
          "base_uri": "https://localhost:8080/"
        },
        "id": "jSaIz_yhnJPv",
        "outputId": "9cb91af0-aba4-43cd-c6e0-f80e002d8a14"
      },
      "execution_count": null,
      "outputs": [
        {
          "output_type": "execute_result",
          "data": {
            "text/plain": [
              "11.862920757085453"
            ]
          },
          "metadata": {},
          "execution_count": 50
        }
      ]
    },
    {
      "cell_type": "code",
      "source": [
        "def desvio_padrao2(lista):\n",
        " Listaquad = []\n",
        " for i in lista:\n",
        "    quadrados = i**2\n",
        "    Listaquad.append(quadrados)\n",
        " med_dos_quadrados = np.sum(Listaquad)/len(Listaquad)\n",
        " desv_pad2 = np.sqrt(med_dos_quadrados - np.mean(lista)**2)\n",
        " return desv_pad2"
      ],
      "metadata": {
        "id": "szYxegSFnkSs"
      },
      "execution_count": null,
      "outputs": []
    },
    {
      "cell_type": "code",
      "source": [
        "desvio_padrao2(x)"
      ],
      "metadata": {
        "colab": {
          "base_uri": "https://localhost:8080/"
        },
        "id": "T96_CXWVp4_D",
        "outputId": "c88c5b90-f084-4016-8ec7-66e113558e0d"
      },
      "execution_count": null,
      "outputs": [
        {
          "output_type": "execute_result",
          "data": {
            "text/plain": [
              "11.862920757085455"
            ]
          },
          "metadata": {},
          "execution_count": 52
        }
      ]
    },
    {
      "cell_type": "markdown",
      "source": [
        "Pulo do gato"
      ],
      "metadata": {
        "id": "S_TGLRVtqrdc"
      }
    },
    {
      "cell_type": "code",
      "source": [
        "np.sqrt(variancia(x))"
      ],
      "metadata": {
        "colab": {
          "base_uri": "https://localhost:8080/"
        },
        "id": "RIzaAlrUqm-I",
        "outputId": "1991c6f2-aed9-48fe-af86-e7098f46368a"
      },
      "execution_count": null,
      "outputs": [
        {
          "output_type": "execute_result",
          "data": {
            "text/plain": [
              "11.862920757085453"
            ]
          },
          "metadata": {},
          "execution_count": 53
        }
      ]
    },
    {
      "cell_type": "markdown",
      "source": [
        "#Largura a meia altura"
      ],
      "metadata": {
        "id": "DcNdiBaZqapL"
      }
    },
    {
      "cell_type": "markdown",
      "source": [
        "Exemplo 1"
      ],
      "metadata": {
        "id": "sjNkrAoE1S9m"
      }
    },
    {
      "cell_type": "code",
      "source": [
        "fig = plt.figure( figsize=(8,6) )\n",
        "plt.hist( x, bins = 48, color='green' )\n",
        "plt.xlim( 16, 64 )\n",
        "plt.xlabel( \"Idade (anos)\")\n",
        "plt.ylabel( \"Frequência\" )\n",
        "plt.title(\"Histograma das idades\")"
      ],
      "metadata": {
        "id": "iFAmEom0qB63",
        "colab": {
          "base_uri": "https://localhost:8080/",
          "height": 421
        },
        "outputId": "09e42b00-86d9-46a0-c8e6-b0763848e4e4"
      },
      "execution_count": null,
      "outputs": [
        {
          "output_type": "execute_result",
          "data": {
            "text/plain": [
              "Text(0.5, 1.0, 'Histograma das idades')"
            ]
          },
          "metadata": {},
          "execution_count": 54
        },
        {
          "output_type": "display_data",
          "data": {
            "text/plain": [
              "<Figure size 576x432 with 1 Axes>"
            ],
            "image/png": "[encoded data removed]"
          },
          "metadata": {
            "needs_background": "light"
          }
        }
      ]
    },
    {
      "cell_type": "code",
      "source": [
        "x2 = 20\n",
        "x1 = 18\n",
        "L = abs(x2 - x1)\n",
        "print(\"Largura a meia altura é:\",L)"
      ],
      "metadata": {
        "colab": {
          "base_uri": "https://localhost:8080/"
        },
        "id": "9lpjmH9V1Rg9",
        "outputId": "ebde1c7b-a11d-49c9-82f4-23639694c43a"
      },
      "execution_count": null,
      "outputs": [
        {
          "output_type": "stream",
          "name": "stdout",
          "text": [
            "Largura a meia altura é: 2\n"
          ]
        }
      ]
    },
    {
      "cell_type": "markdown",
      "source": [
        "Exemplo 2"
      ],
      "metadata": {
        "id": "UNVx8-Z81wsj"
      }
    },
    {
      "cell_type": "code",
      "source": [
        "fig = plt.figure( figsize=(8,6) )\n",
        "plt.hist( y, bins = 100, color='orange' )\n",
        "# plt.xlim( 16, 64 )\n",
        "plt.xlabel( \"Massa(kg)\")\n",
        "plt.ylabel( \"Frequência\" )\n",
        "plt.title(\"Histograma das massas\")"
      ],
      "metadata": {
        "colab": {
          "base_uri": "https://localhost:8080/",
          "height": 421
        },
        "id": "rJAU_5pT1bxp",
        "outputId": "328667ff-eb3c-456d-f725-92db114eb526"
      },
      "execution_count": null,
      "outputs": [
        {
          "output_type": "execute_result",
          "data": {
            "text/plain": [
              "Text(0.5, 1.0, 'Histograma das massas')"
            ]
          },
          "metadata": {},
          "execution_count": 56
        },
        {
          "output_type": "display_data",
          "data": {
            "text/plain": [
              "<Figure size 576x432 with 1 Axes>"
            ],
            "image/png": "[encoded data removed]"
          },
          "metadata": {
            "needs_background": "light"
          }
        }
      ]
    },
    {
      "cell_type": "code",
      "source": [
        "x2 = 105\n",
        "x1 = 54\n",
        "L1 = abs(x2 - x1)\n",
        "print(\"Largura a meia altura é:\",L1)"
      ],
      "metadata": {
        "colab": {
          "base_uri": "https://localhost:8080/"
        },
        "id": "TfQ-1OVx10YH",
        "outputId": "f3bf6509-0a4f-423c-f149-d3151bc27a90"
      },
      "execution_count": null,
      "outputs": [
        {
          "output_type": "stream",
          "name": "stdout",
          "text": [
            "Largura a meia altura é: 51\n"
          ]
        }
      ]
    },
    {
      "cell_type": "markdown",
      "source": [
        "##2.4 Parâmetros de correlação"
      ],
      "metadata": {
        "id": "765kn9Bb29Ib"
      }
    },
    {
      "cell_type": "markdown",
      "source": [
        "Gráfico de dispersão"
      ],
      "metadata": {
        "id": "Xu_4aDc7Ehni"
      }
    },
    {
      "cell_type": "code",
      "source": [
        "# plt.style.use(\"default\")\n",
        "fig = plt.figure( figsize=(8,6) )\n",
        "\n",
        "plt.plot( array_Idade, array_Massa, 'o' )\n",
        "plt.xlim( 15, 55 )\n",
        "plt.ylim( 40., 140. )\n",
        "plt.xlabel( \"Idade (anos)\", fontsize=18 )\n",
        "plt.ylabel( \"Massa (kg)\", fontsize=18 )\n",
        "plt.title('Diagrama de Dispersão: Idade (anos) vs. Massa (kg)')"
      ],
      "metadata": {
        "colab": {
          "base_uri": "https://localhost:8080/",
          "height": 429
        },
        "id": "v2iwST2qEklB",
        "outputId": "a61f695f-f21a-4626-f66f-50b41f9eff78"
      },
      "execution_count": null,
      "outputs": [
        {
          "output_type": "execute_result",
          "data": {
            "text/plain": [
              "Text(0.5, 1.0, 'Diagrama de Dispersão: Idade (anos) vs. Massa (kg)')"
            ]
          },
          "metadata": {},
          "execution_count": 58
        },
        {
          "output_type": "display_data",
          "data": {
            "text/plain": [
              "<Figure size 576x432 with 1 Axes>"
            ],
            "image/png": "[encoded data removed]"
          },
          "metadata": {
            "needs_background": "light"
          }
        }
      ]
    },
    {
      "cell_type": "code",
      "source": [
        "fig = plt.figure( figsize=(8,6) )\n",
        "\n",
        "plt.plot( array_Idade, array_Altura, 'x' )\n",
        "plt.xlim( 15, 55 )\n",
        "plt.ylim( 155, 200 )\n",
        "plt.xlabel( \"Idade (anos)\", fontsize=18 )\n",
        "plt.ylabel( \"Altura (cm)\", fontsize=18 )\n",
        "plt.title('Diagrama de Dispersão: Idade (anos) vs. Altura (cm)')"
      ],
      "metadata": {
        "colab": {
          "base_uri": "https://localhost:8080/",
          "height": 429
        },
        "id": "O95TmGRHE1Uf",
        "outputId": "83d5ac65-8e89-4fd2-eb8d-affe816ca741"
      },
      "execution_count": null,
      "outputs": [
        {
          "output_type": "execute_result",
          "data": {
            "text/plain": [
              "Text(0.5, 1.0, 'Diagrama de Dispersão: Idade (anos) vs. Altura (cm)')"
            ]
          },
          "metadata": {},
          "execution_count": 59
        },
        {
          "output_type": "display_data",
          "data": {
            "text/plain": [
              "<Figure size 576x432 with 1 Axes>"
            ],
            "image/png": "[encoded data removed]"
          },
          "metadata": {
            "needs_background": "light"
          }
        }
      ]
    },
    {
      "cell_type": "code",
      "source": [
        "fig = plt.figure( figsize=(8,6) )\n",
        "\n",
        "plt.plot( array_Altura, array_Massa, 'o' )\n",
        "plt.xlim( 155, 200 )\n",
        "plt.ylim( 40., 140. )\n",
        "plt.xlabel( \"Altura (cm)\", fontsize=18 )\n",
        "plt.ylabel( \"Massa (kg)\", fontsize=18 )\n",
        "plt.legend(loc='best') #colocando a legenda no melhor lugar\n",
        "plt.title('Diagrama de Dispersão: Massa (kg) vs. Altura (cm)')"
      ],
      "metadata": {
        "colab": {
          "base_uri": "https://localhost:8080/",
          "height": 467
        },
        "id": "oncxxt8uE8Ej",
        "outputId": "51a81a42-014c-43e6-b862-b12032f2e596"
      },
      "execution_count": null,
      "outputs": [
        {
          "output_type": "stream",
          "name": "stderr",
          "text": [
            "WARNING:matplotlib.legend:No artists with labels found to put in legend.  Note that artists whose label start with an underscore are ignored when legend() is called with no argument.\n"
          ]
        },
        {
          "output_type": "execute_result",
          "data": {
            "text/plain": [
              "Text(0.5, 1.0, 'Diagrama de Dispersão: Massa (kg) vs. Altura (cm)')"
            ]
          },
          "metadata": {},
          "execution_count": 60
        },
        {
          "output_type": "display_data",
          "data": {
            "text/plain": [
              "<Figure size 576x432 with 1 Axes>"
            ],
            "image/png": "[encoded data removed]"
          },
          "metadata": {
            "needs_background": "light"
          }
        }
      ]
    },
    {
      "cell_type": "markdown",
      "source": [
        "Covariância"
      ],
      "metadata": {
        "id": "9ruPdpsv_i5a"
      }
    },
    {
      "cell_type": "code",
      "source": [
        "covariancia = np.mean( array_Idade * array_Massa ) - np.mean( array_Idade ) * np.mean( array_Massa )\n",
        "print(\"A covariância entre idade e massa é de\",covariancia)"
      ],
      "metadata": {
        "colab": {
          "base_uri": "https://localhost:8080/"
        },
        "id": "A9qnaLg3A2ig",
        "outputId": "4cdaee1c-3104-4b7d-a56c-1ffb31daaeed"
      },
      "execution_count": null,
      "outputs": [
        {
          "output_type": "stream",
          "name": "stdout",
          "text": [
            "A covariância entre idade e massa é de 149.7022222222222\n"
          ]
        }
      ]
    },
    {
      "cell_type": "code",
      "source": [
        "covariancia = np.mean( array_Idade * array_Altura ) - np.mean( array_Idade ) * np.mean( array_Altura )\n",
        "print(\"A covariância entre idade e altura é de\",covariancia)"
      ],
      "metadata": {
        "colab": {
          "base_uri": "https://localhost:8080/"
        },
        "id": "gY4aej6wBmqx",
        "outputId": "9634756a-51cd-4974-8aa9-bf8269990f5a"
      },
      "execution_count": null,
      "outputs": [
        {
          "output_type": "stream",
          "name": "stdout",
          "text": [
            "A covariância entre idade e altura é de 6.568888888888978\n"
          ]
        }
      ]
    },
    {
      "cell_type": "code",
      "source": [
        "covariancia = np.mean( array_Massa * array_Altura ) - np.mean( array_Massa ) * np.mean( array_Altura )\n",
        "print(\"A covariância entre massa e altura é de\",covariancia)"
      ],
      "metadata": {
        "colab": {
          "base_uri": "https://localhost:8080/"
        },
        "id": "aJA-yWdmBwVr",
        "outputId": "f3ab038b-6f0e-4e0a-d76d-a8830eaac4b3"
      },
      "execution_count": null,
      "outputs": [
        {
          "output_type": "stream",
          "name": "stdout",
          "text": [
            "A covariância entre massa e altura é de 44.18222222222175\n"
          ]
        }
      ]
    },
    {
      "cell_type": "code",
      "source": [
        "np.cov(x,y) #página 29"
      ],
      "metadata": {
        "colab": {
          "base_uri": "https://localhost:8080/"
        },
        "id": "uo1A72OO2tpk",
        "outputId": "28be27c0-ac16-4448-d831-a37ecfd22ebf"
      },
      "execution_count": null,
      "outputs": [
        {
          "output_type": "execute_result",
          "data": {
            "text/plain": [
              "array([[150.78095238, 160.3952381 ],\n",
              "       [160.3952381 , 271.55238095]])"
            ]
          },
          "metadata": {},
          "execution_count": 64
        }
      ]
    },
    {
      "cell_type": "code",
      "source": [
        "np.cov(x,y, ddof=0) #página 29"
      ],
      "metadata": {
        "colab": {
          "base_uri": "https://localhost:8080/"
        },
        "id": "ZuZ3gwsgBk2h",
        "outputId": "c63a5f51-1341-4ccf-ecb2-d53ff0e782ae"
      },
      "execution_count": null,
      "outputs": [
        {
          "output_type": "execute_result",
          "data": {
            "text/plain": [
              "array([[140.72888889, 149.70222222],\n",
              "       [149.70222222, 253.44888889]])"
            ]
          },
          "metadata": {},
          "execution_count": 65
        }
      ]
    },
    {
      "cell_type": "code",
      "source": [
        "def covariancia(array1,array2):\n",
        "  cov = np.mean( array1 * array2) - np.mean( array1 ) * np.mean( array2 )\n",
        "  return cov"
      ],
      "metadata": {
        "id": "y-qovYa6DbqJ"
      },
      "execution_count": null,
      "outputs": []
    },
    {
      "cell_type": "markdown",
      "source": [
        "Coeficiente de correlação linear de Pearson"
      ],
      "metadata": {
        "id": "nxu_a9uHCs-Y"
      }
    },
    {
      "cell_type": "code",
      "source": [
        "r = (covariancia(array_Idade,array_Massa))/(np.sqrt(variancia(x))*np.sqrt(variancia(y)))\n",
        "print(r)"
      ],
      "metadata": {
        "colab": {
          "base_uri": "https://localhost:8080/"
        },
        "id": "13Nx4qN1ATu8",
        "outputId": "f45bd62e-68bc-4eab-870a-446e42bdfd5e"
      },
      "execution_count": null,
      "outputs": [
        {
          "output_type": "stream",
          "name": "stdout",
          "text": [
            "0.7926681750480892\n"
          ]
        }
      ]
    },
    {
      "cell_type": "code",
      "source": [
        "r = (covariancia(array_Idade,array_Altura))/(np.sqrt(variancia(x))*np.sqrt(variancia(z)))\n",
        "print(r)"
      ],
      "metadata": {
        "colab": {
          "base_uri": "https://localhost:8080/"
        },
        "id": "PurBj-K6DO87",
        "outputId": "5aff6718-b8b6-43a9-b4e2-7e218474ef1a"
      },
      "execution_count": null,
      "outputs": [
        {
          "output_type": "stream",
          "name": "stdout",
          "text": [
            "0.0881622974035646\n"
          ]
        }
      ]
    },
    {
      "cell_type": "code",
      "source": [
        "r = (covariancia(array_Massa,array_Altura))/(np.sqrt(variancia(y))*np.sqrt(variancia(z)))\n",
        "print(r)"
      ],
      "metadata": {
        "colab": {
          "base_uri": "https://localhost:8080/"
        },
        "id": "jc4uEkCkEJfs",
        "outputId": "63e8c8cc-518c-4ae5-f156-4ac2546d9ebd"
      },
      "execution_count": null,
      "outputs": [
        {
          "output_type": "stream",
          "name": "stdout",
          "text": [
            "0.44186028887117623\n"
          ]
        }
      ]
    },
    {
      "cell_type": "code",
      "source": [],
      "metadata": {
        "id": "MsJLp3nAEPgt"
      },
      "execution_count": null,
      "outputs": []
    }
  ]
}